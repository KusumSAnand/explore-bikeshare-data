{
 "cells": [
  {
   "cell_type": "markdown",
   "metadata": {},
   "source": [
    "# 2016 US Bike Share Activity Snapshot\n",
    "\n",
    "## Table of Contents\n",
    "- [Introduction](#intro)\n",
    "- [Posing Questions](#pose_questions)\n",
    "- [Data Collection and Wrangling](#wrangling)\n",
    "  - [Condensing the Trip Data](#condensing)\n",
    "- [Exploratory Data Analysis](#eda)\n",
    "  - [Statistics](#statistics)\n",
    "  - [Visualizations](#visualizations)\n",
    "- [Performing Your Own Analysis](#eda_continued)\n",
    "- [Limitations](#limitations)\n,
    "- [Conclusions](#conclusions)\n",
    "\n",
    "<a id='intro'></a>\n",
    "## Introduction\n",
    "\n",
    "\n",
    "Over the past decade, bicycle-sharing systems have been growing in number and popularity in cities across the world. Bicycle-sharing systems allow users to rent bicycles for short trips, typically 30 minutes or less. Thanks to the rise in information technologies, it is easy for a user of the system to access a dock within the system to unlock or return bicycles. These technologies also provide a wealth of data that can be used to explore how these bike-sharing systems are used.\n",
    "\n",
    "In this project, we perform an exploratory analysis on data provided by [Motivate](https://www.motivateco.com/), a bike-share system provider for many major cities in the United States. Here we compare the system usage between three large cities: New York City, Chicago, and Washington, DC. Also see if there are any differences within each system for those users that are registered, regular users and those users that are short-term, casual users."
   ]
  },
  {
   "cell_type": "markdown",
   "metadata": {},
   "source": [
    "<a id='pose_questions'></a>\n",
    "## Posing Questions\n",
    "\n",
    "Before looking at the bike sharing data, we begin by asking questions to understand about the bike share data. Consider, for example, if  working for Motivate, what kinds of information would one want to know about in order to make smarter business decisions? If you were a user of the bike-share service, what factors might influence how you would want to use the service?\n",
    "\n",
    "**Question 1**: Questions related to bike sharing that could be answered by data.\n",
    "\n",
    "Below questions are based on the commonalities  observed of the data from the three bike sharing services.\n",
    "\n",
    "- Resource distribution - Determine the traffic from 'from' location(and between locations) along with duration and timing in terms of daily/weekly/monthly demand for bikes.\n",
    "\n",
    "This allows for optimal utilization of resources for efficient working of the buisness and improved services.\n",
    "\n",
    "- Conversion rate - Identify the user types viz subscriber/long term users and casual users to understand their bike usage pattern. \n",
    "\n",
    "Conversion rates aid in planning the marketing/promotional campaigns to increase the subscription rate: increased possibilty of converting a casual user to subscriber.\n"
   ]
  },
  {
   "cell_type": "markdown",
   "metadata": {},
   "source": [
    "<a id='wrangling'></a>\n",
    "## Data Collection and Wrangling\n",
    "\n",
    "In this project, we shall focus on the record of individual trips taken in 2016 from our selected cities: New York City, Chicago, and Washington, DC. Each of these cities has a page where we can freely download the trip data.:\n",
    "\n",
    "- New York City (Citi Bike): [Link](https://www.citibikenyc.com/system-data)\n",
    "- Chicago (Divvy): [Link](https://www.divvybikes.com/system-data)\n",
    "- Washington, DC (Capital Bikeshare): [Link](https://www.capitalbikeshare.com/system-data)\n",
    "\n",
    "Click on these pages,to notice that each city has a different way of delivering its data. Chicago updates with new data twice a year, Washington DC is quarterly, and New York City is monthly. While the original data for 2016 is spread among multiple files for each city, the files in the  folder collect all of the trip data for the year into one file per city.A random 2% sample of the original data is taken to make the exploration more manageable. \n",
    "\n",
    "**Question 2**: We start off by looking at one entry from each of the cities we're going to analyze - print out the first trip recorded from each of the cities (the second line of each data file).\n"
   ]
  },
  {
   "cell_type": "code",
   "execution_count": 1,
   "metadata": {
    "collapsed": true
   },
   "outputs": [],
   "source": [
    "## import all necessary packages and functions.\n",
    "import csv # read and write csv files\n",
    "from datetime import datetime # operations to parse dates\n",
    "import numpy as np\n",
    "from pprint import pprint # use to print data structures like dictionaries in\n",
    "                          # a nicer way than the base print function."
   ]
  },
  {
   "cell_type": "code",
   "execution_count": 2,
   "metadata": {
    "collapsed": false
   },
   "outputs": [
    {
     "name": "stdout",
     "output_type": "stream",
     "text": [
      "\n",
      "City: NYC\n",
      "OrderedDict([('tripduration', '839'),\n",
      "             ('starttime', '1/1/2016 00:09:55'),\n",
      "             ('stoptime', '1/1/2016 00:23:54'),\n",
      "             ('start station id', '532'),\n",
      "             ('start station name', 'S 5 Pl & S 4 St'),\n",
      "             ('start station latitude', '40.710451'),\n",
      "             ('start station longitude', '-73.960876'),\n",
      "             ('end station id', '401'),\n",
      "             ('end station name', 'Allen St & Rivington St'),\n",
      "             ('end station latitude', '40.72019576'),\n",
      "             ('end station longitude', '-73.98997825'),\n",
      "             ('bikeid', '17109'),\n",
      "             ('usertype', 'Customer'),\n",
      "             ('birth year', ''),\n",
      "             ('gender', '0')])\n",
      "\n",
      "City: Chicago\n",
      "OrderedDict([('trip_id', '9080545'),\n",
      "             ('starttime', '3/31/2016 23:30'),\n",
      "             ('stoptime', '3/31/2016 23:46'),\n",
      "             ('bikeid', '2295'),\n",
      "             ('tripduration', '926'),\n",
      "             ('from_station_id', '156'),\n",
      "             ('from_station_name', 'Clark St & Wellington Ave'),\n",
      "             ('to_station_id', '166'),\n",
      "             ('to_station_name', 'Ashland Ave & Wrightwood Ave'),\n",
      "             ('usertype', 'Subscriber'),\n",
      "             ('gender', 'Male'),\n",
      "             ('birthyear', '1990')])\n",
      "\n",
      "City: Washington\n",
      "OrderedDict([('Duration (ms)', '427387'),\n",
      "             ('Start date', '3/31/2016 22:57'),\n",
      "             ('End date', '3/31/2016 23:04'),\n",
      "             ('Start station number', '31602'),\n",
      "             ('Start station', 'Park Rd & Holmead Pl NW'),\n",
      "             ('End station number', '31207'),\n",
      "             ('End station', 'Georgia Ave and Fairmont St NW'),\n",
      "             ('Bike number', 'W20842'),\n",
      "             ('Member Type', 'Registered')])\n"
     ]
    }
   ],
   "source": [
    "def print_first_point(filename):\n",
    "    \"\"\"\n",
    "    This function prints and returns the first data point (second row) from\n",
    "    a csv file that includes a header row.\n",
    "    \"\"\"\n",
    "    # print city name for reference\n",
    "    city = filename.split('-')[0].split('/')[-1]\n",
    "    print('\\nCity: {}'.format(city))\n",
    "    \n",
    "    with open(filename, 'r') as f_in:\n",
    "        ## Use the csv library to set up a DictReader object. ##\n",
    "\n",
    "        trip_reader = csv.DictReader(f_in)\n",
    "        \n",
    "        ## Use a function on the DictReader object to read the     ##\n",
    "        ## first trip from the data file and store it in a variable.     ##\n",
    "\n",
    "        first_trip = next(trip_reader)\n",
    "        \n",
    "        ## Use the pprint library to print the first trip. ##\n",
    "\n",
    "        pprint(first_trip)\n",
    "        \n",
    "    # output city name and first trip for later testing\n",
    "    return (city, first_trip)\n",
    "\n",
    "# list of files for each city\n",
    "data_files = ['./data/NYC-CitiBike-2016.csv',\n",
    "              './data/Chicago-Divvy-2016.csv',\n",
    "              './data/Washington-CapitalBikeshare-2016.csv',]\n",
    "\n",
    "# print the first trip from each file, store in dictionary\n",
    "example_trips = {}\n",
    "for data_file in data_files:\n",
    "    city, first_trip = print_first_point(data_file)\n",
    "    example_trips[city] = first_trip"
   ]
  },
  {
   "cell_type": "markdown",
   "metadata": {},
   "source": [
    "The outout shows each city name (which has been parsed from the data file name) that the first trip has been parsed in the form of a dictionary. When setting up\n",
    "a `DictReader` object, the first row of the data file is normally interpreted as column names. Every other row in the data file will use those column names as keys, as a dictionary is generated for each row.\n",
    "\n",
    "This will be useful since we can refer to quantities by an easily-understandable label instead of just a numeric index. For example, if we have a trip stored in the variable `row`, then we would rather get the trip duration from `row['duration']` instead of `row[0]`.\n",
    "\n",
    "<a id='condensing'></a>\n",
    "### Condensing the Trip Data\n",
    "\n",
    "It should also be observable from the above printout that each city provides different information. Even where the information is the same, the column names and formats are sometimes different. To make things as simple as possible when we get to the actual exploration, we shall trim and clean the data. Cleaning the data makes sure that the data formats across the cities are consistent, while trimming focuses only on the parts of the data we are most interested in to make the exploration easier to work with.\n",
    "\n",
    "New data files will be generated with five values of interest for each trip: trip duration, starting month, starting hour, day of the week, and user type. Each of these may require additional wrangling depending on the city:\n",
    "\n",
    "- **Duration**: This has been given to us in seconds (New York, Chicago) or milliseconds (Washington). A more natural unit of analysis will be if all the trip durations are given in terms of minutes.\n",
    "- **Month**, **Hour**, **Day of Week**: Ridership volume is likely to change based on the season, time of day, and whether it is a weekday or weekend. Use the start time of the trip to obtain these values. The New York City data includes the seconds in their timestamps, while Washington and Chicago do not. The [`datetime`](https://docs.python.org/3/library/datetime.html) package will be very useful to make the needed conversions.\n",
    "- **User Type**: It is possible that users who are subscribed to a bike-share system will have different patterns of use compared to users who only have temporary passes. Washington divides its users into two types: 'Registered' for users with annual, monthly, and other longer-term subscriptions, and 'Casual', for users with 24-hour, 3-day, and other short-term passes. The New York and Chicago data uses 'Subscriber' and 'Customer' for these groups, respectively. For consistency, the Washington labels will be converted to match the other two.\n",
    "\n",
    "\n",
    "**Question 3a**: Address each of the cleaning tasks described above:"
   ]
  },
  {
   "cell_type": "code",
   "execution_count": 3,
   "metadata": {
    "collapsed": true
   },
   "outputs": [],
   "source": [
    "def duration_in_mins(datum, city):\n",
    "    \"\"\"\n",
    "    Takes as input a dictionary containing info about a single trip (datum) and\n",
    "    its origin city (city) and returns the trip duration in units of minutes.\n",
    "    \n",
    "    Washington is in terms of milliseconds while Chicago and NYC\n",
    "    are in terms of seconds. \n",
    "    \n",
    "    \"\"\"\n",
    "\n",
    "    #Calculation of durtation in minutes.\n",
    "    for info in datum:\n",
    "        #duration is converted from str to int format for computation\n",
    "        #For Washington,conversion of milliseconds to seconds prior to minute conversion\n",
    "        #duration is rounded off to 4 decimal places\n",
    "        if city=='Washington':\n",
    "            duration=round(int(datum['Duration (ms)'])*0.001/60,4)\n",
    "        elif city=='NYC' or city=='Chicago':\n",
    "            duration=round(int(datum['tripduration'])/60,4)\n",
    "    return duration\n",
    "\n",
    "\n",
    "# There should be no output if all of the assertions pass. \n",
    "tests = {'NYC': 13.9833,\n",
    "         'Chicago': 15.4333,\n",
    "         'Washington': 7.1231}\n",
    "\n",
    "for city in tests:\n",
    "    assert abs(duration_in_mins(example_trips[city], city) - tests[city]) < .001"
   ]
  },
  {
   "cell_type": "code",
   "execution_count": 4,
   "metadata": {
    "collapsed": true
   },
   "outputs": [],
   "source": [
    "def time_of_trip(datum, city):\n",
    "    \"\"\"\n",
    "    Takes as input a dictionary containing info about a single trip (datum) and\n",
    "    its origin city (city) and returns the month, hour, and day of the week in\n",
    "    which the trip was made.NYC includes seconds, while Washington and Chicago do not.\n",
    "    \"\"\"\n",
    "    \n",
    "    \n",
    "    for info in datum:\n",
    "        #parse and format the datetime object using strptime and strftime method respectively.\n",
    "        #Slice the result to get the desired output\n",
    "        if city=='Washington':\n",
    "            startdate=(datum['Start date'])\n",
    "            dt_format=datetime.strptime(startdate, \"%m/%d/%Y %H:%M\")\n",
    "            conv_dt_format=datetime.strftime(dt_format,\"%m %H %A \")\n",
    "            month,hour,day_of_week=int(conv_dt_format[1:2]),(int(conv_dt_format[3:5])), (conv_dt_format[6:-1])\n",
    "        elif city=='NYC':\n",
    "            startdate=(datum['starttime'])\n",
    "            dt_format=datetime.strptime(startdate, \"%m/%d/%Y %H:%M:%S\")\n",
    "            conv_dt_format=datetime.strftime(dt_format,\"%m %H %A \")\n",
    "            month,hour,day_of_week=int(conv_dt_format[1:2]),(int(conv_dt_format[3:5])),(conv_dt_format[6:-1])\n",
    "        elif city=='Chicago':\n",
    "            startdate=(datum['starttime'])\n",
    "            dt_format=datetime.strptime(startdate, \"%m/%d/%Y %H:%M\")\n",
    "            conv_dt_format=datetime.strftime(dt_format,\"%m %H %A \")\n",
    "            month,hour,day_of_week=int(conv_dt_format[1:2]),(int(conv_dt_format[3:5])), (conv_dt_format[6:-1])           \n",
    "    return (month, hour, day_of_week)\n",
    "\n",
    "#Assertion test\n",
    "\n",
    "tests = {'NYC': (1, 0, 'Friday'),\n",
    "         'Chicago': (3, 23, 'Thursday'),\n",
    "         'Washington': (3, 22, 'Thursday')}\n",
    "\n",
    "for city in tests:\n",
    "    assert time_of_trip(example_trips[city], city) == tests[city]"
   ]
  },
  {
   "cell_type": "code",
   "execution_count": 5,
   "metadata": {
    "collapsed": true
   },
   "outputs": [],
   "source": [
    "def type_of_user(datum, city):\n",
    "    \"\"\"\n",
    "    The function takes as input a dictionary containing info about a single trip (datum) and\n",
    "    its origin city (city) and returns the type of system user that made the\n",
    "    trip.Washington has different category names compared to Chicago\n",
    "    and NYC. \n",
    "    \"\"\"\n",
    "    \n",
    "    # label names for city , Washington is made consistent with that of the other two cities.\n",
    "    # retrieve the usertype for the cities\n",
    "    for info in datum:\n",
    "        if city=='Washington':\n",
    "            if datum['Member Type']=='Registered':\n",
    "                datum['Member Type']='Subscriber'\n",
    "            elif datum['Member Type']=='Casual':\n",
    "                datum['Member Type']='Customer' \n",
    "            user_type=datum['Member Type']\n",
    "        elif city=='NYC' or city=='Chicago':\n",
    "            user_type=datum['usertype']\n",
    "    return user_type\n",
    "\n",
    "\n",
    "#Assertion test\n",
    "\n",
    "tests = {'NYC': 'Customer',\n",
    "         'Chicago': 'Subscriber',\n",
    "         'Washington': 'Subscriber'}\n",
    "\n",
    "for city in tests:\n",
    "    assert type_of_user(example_trips[city], city) == tests[city]"
   ]
  },
  {
   "cell_type": "markdown",
   "metadata": {},
   "source": [
    "**Question 3b**: Now, using the helper functions we shall create a condensed data file for each city consisting only of the data fields indicated above. "
   ]
  },
  {
   "cell_type": "code",
   "execution_count": 6,
   "metadata": {
    "collapsed": true
   },
   "outputs": [],
   "source": [
    "def condense_data(in_file, out_file, city):\n",
    "    \"\"\"\n",
    "    The function takes full data from the specified input file\n",
    "    and writes the condensed data to a specified output file. The city\n",
    "    argument determines how the input file will be parsed.\n",
    "    \"\"\"\n",
    "    \n",
    "    with open(out_file, 'w',newline='') as f_out, open(in_file, 'r') as f_in:\n",
    "        # set up csv DictWriter object - writer requires column names for the\n",
    "        # first row as the \"fieldnames\" argument\n",
    "        out_colnames = ['duration', 'month', 'hour', 'day_of_week', 'user_type']        \n",
    "        trip_writer = csv.DictWriter(f_out, fieldnames = out_colnames)\n",
    "        trip_writer.writeheader()\n",
    "        \n",
    "        ## Set up csv DictReader object ##\n",
    "        trip_reader =  csv.DictReader(f_in)\n",
    "\n",
    "        # collect data from and process each row\n",
    "        for row in trip_reader:\n",
    "            # set up a dictionary to hold the values for the cleaned and trimmed\n",
    "            # data point\n",
    "            new_point = {}\n",
    "\n",
    "            ## Use the helper functions to get the cleaned data from  ##\n",
    "            ## the original data dictionaries.                        ##\n",
    "            ## the keys for the new_point dictionary should match     ##\n",
    "            ## the column names set in the DictWriter object above.   ##\n",
    "\n",
    "            new_point['duration']=duration_in_mins(row, city)\n",
    "            new_point['month'],new_point['hour'],new_point['day_of_week']=time_of_trip(row, city)\n",
    "            new_point['user_type']=type_of_user(row, city)\n",
    "\n",
    "            ## Write the processed information to the output file.     ##\n",
    "            \n",
    "            trip_writer.writerow(new_point)\n",
    "            "
   ]
  },
  {
   "cell_type": "code",
   "execution_count": 7,
   "metadata": {
    "collapsed": false
   },
   "outputs": [
    {
     "name": "stdout",
     "output_type": "stream",
     "text": [
      "\n",
      "City: Washington\n",
      "OrderedDict([('duration', '7.1231'),\n",
      "             ('month', '3'),\n",
      "             ('hour', '22'),\n",
      "             ('day_of_week', 'Thursday'),\n",
      "             ('user_type', 'Subscriber')])\n",
      "\n",
      "City: Chicago\n",
      "OrderedDict([('duration', '15.4333'),\n",
      "             ('month', '3'),\n",
      "             ('hour', '23'),\n",
      "             ('day_of_week', 'Thursday'),\n",
      "             ('user_type', 'Subscriber')])\n",
      "\n",
      "City: NYC\n",
      "OrderedDict([('duration', '13.9833'),\n",
      "             ('month', '1'),\n",
      "             ('hour', '0'),\n",
      "             ('day_of_week', 'Friday'),\n",
      "             ('user_type', 'Customer')])\n"
     ]
    }
   ],
   "source": [
    "# Run this cell to cross check\n",
    "city_info = {'Washington': {'in_file': './data/Washington-CapitalBikeshare-2016.csv',\n",
    "                            'out_file': './data/Washington-2016-Summary.csv'},\n",
    "             'Chicago': {'in_file': './data/Chicago-Divvy-2016.csv',\n",
    "                         'out_file': './data/Chicago-2016-Summary.csv'},\n",
    "             'NYC': {'in_file': './data/NYC-CitiBike-2016.csv',\n",
    "                     'out_file': './data/NYC-2016-Summary.csv'}}\n",
    "\n",
    "#print the first row for each of the city from the summary file:the row displays the data for the new columns created.\n",
    "for city, filenames in city_info.items():\n",
    "    #condense_data(filenames['in_file'], filenames['out_file'], city)\n",
    "    print_first_point(filenames['out_file'])"
   ]
  },
  {
   "cell_type": "markdown",
   "metadata": {},
   "source": [
    "\n",
    "<a id='eda'></a>\n",
    "## Exploratory Data Analysis\n",
    "\n",
    "Now that the data is collected and wrangled, we shall explore the data and  compute descriptive statistics from the data. \n",
    "\n",
    "<a id='statistics'></a>\n",
    "### Statistics\n",
    "\n",
    "**Question 4a**: \n",
    "\n",
    "Which city has the highest number of trips? \n",
    "- **Chicago** has the highest proportion of trips by customers : 23.77%\n",
    "\n",
    "Which city has the highest proportion of trips made by subscribers? \n",
    "\n",
    "- **NYC** has the highest proportion of trips by subscribers : 88.84%\n",
    "\n",
    "Which city has the highest proportion of trips made by short-term customers?\n",
    "\n",
    "- **NYC** has the highest number of total trips  : 276081"
   ]
  },
  {
   "cell_type": "code",
   "execution_count": 8,
   "metadata": {
    "collapsed": true
   },
   "outputs": [],
   "source": [
    "def number_of_trips(filename):\n",
    "    \"\"\"\n",
    "    This function reads in a file with trip data and reports the number of\n",
    "    trips made by subscribers, customers, and total users.\n",
    "    \"\"\"\n",
    "    with open(filename, 'r') as f_in:\n",
    "        # set up csv reader object\n",
    "        reader = csv.DictReader(f_in)\n",
    "        \n",
    "        # initialize count variables\n",
    "        n_subscribers = 0\n",
    "        n_customers = 0\n",
    "        \n",
    "        # tally up ride types\n",
    "        for row in reader:\n",
    "            if row['user_type'] == 'Subscriber':\n",
    "                n_subscribers += 1\n",
    "            else:\n",
    "                n_customers += 1\n",
    "        \n",
    "        # compute total number of rides\n",
    "        n_total = n_subscribers + n_customers\n",
    "        \n",
    "        # return tallies as a tuple\n",
    "        return(n_subscribers, n_customers, n_total)"
   ]
  },
  {
   "cell_type": "code",
   "execution_count": 9,
   "metadata": {
    "collapsed": false
   },
   "outputs": [
    {
     "name": "stdout",
     "output_type": "stream",
     "text": [
      "'Chicago has the highest proportion of trips by customers : 23.77%'\n",
      "'NYC has the highest proportion of trips by subscribers : 88.84%'\n",
      "'NYC has the highest number of total trips  : 276798'\n"
     ]
    }
   ],
   "source": [
    "#Cleaned and trimmed data files for processing the number of trips\n",
    "data_files_summary = {'NYC': './data/NYC-2016-Summary.csv',\n",
    "              'Chicago': './data/Chicago-2016-Summary.csv',\n",
    "              'Washington': './data/Washington-2016-Summary.csv'}\n",
    "\n",
    "# initialize the dict creation\n",
    "\n",
    "city_summary={}\n",
    "max_cust_rides={}\n",
    "max_subs_rides={}\n",
    "city_rides_total={}\n",
    "\n",
    "#unpack the values for number_of_trips function and create city summary dict capturing the values unpacked.\n",
    "for city,file in data_files_summary.items():\n",
    "    total_subscribers,total_customers,total_rides=number_of_trips(file)\n",
    "    city_summary[city]={'total_customers':total_customers,'total_subscribers':total_subscribers,'total_rides':total_rides}    \n",
    "\n",
    "#compute the highest proportion of customer rides,subscriber rides and city with highest rides.\n",
    "for city,data in city_summary.items():\n",
    "    for k,v in data.items():\n",
    "        proportion_cus_rides = data['total_customers']/data['total_rides'] *100\n",
    "        max_cust_rides[city]=proportion_cus_rides\n",
    "        proportion_subs_rides = data['total_subscribers']/data['total_rides'] *100\n",
    "        max_subs_rides[city]=proportion_subs_rides\n",
    "        max_city_rides=data['total_rides']\n",
    "        city_rides_total[city]=max_city_rides\n",
    "# get the max value for each                        \n",
    "max_cust_rides_prop=max(max_cust_rides,key=max_cust_rides.get)\n",
    "max_subs_rides_prop=max(max_subs_rides,key=max_subs_rides.get)\n",
    "max_city_rides=max(city_rides_total,key=city_rides_total.get)\n",
    "\n",
    "pprint('{} has the highest proportion of trips by customers : {}%'.format(max_cust_rides_prop,round(max_cust_rides[max_cust_rides_prop],2)) )           \n",
    "pprint('{} has the highest proportion of trips by subscribers : {}%'.format(max_subs_rides_prop,round (max_subs_rides[max_subs_rides_prop],2)))\n",
    "pprint('{} has the highest number of total trips  : {}'.format(max_city_rides,city_rides_total[max_city_rides]))\n"
   ]
  },
  {
   "cell_type": "markdown",
   "metadata": {},
   "source": [
    "\n",
    "**Question 4b**: Bike-share systems are designed for riders to take short trips. Most of the time, users are allowed to take trips of 30 minutes or less with no additional charges, with overage charges made for trips of longer than that duration. What is the average trip length for each city? What proportion of rides made in each city are longer than 30 minutes?\n",
    "\n",
    "**Answer**: \n"
   ]
  },
  {
   "cell_type": "markdown",
   "metadata": {},
   "source": [
    "**Average trip length summary **\n",
    "\n",
    "| City      | Average trip length(min)|  \n",
    "| --------- | ----------------------- |\n",
    "| NYC       | 15.81                   |\n",
    "| Chicago   | 16.56                   |\n",
    "| Washington| 18.93                   |  "
   ]
  },
  {
   "cell_type": "markdown",
   "metadata": {},
   "source": [
    "**Proportion of rides(%) greater than 30 min**\n",
    "\n",
    "| City      | Overage rides           |  \n",
    "| --------- | ----------------------- |\n",
    "| NYC       | 6.96                    |\n",
    "| Chicago   | 7.98                    |\n",
    "| Washington| 10.5                    |  "
   ]
  },
  {
   "cell_type": "code",
   "execution_count": 10,
   "metadata": {
    "collapsed": true,
    "scrolled": true
   },
   "outputs": [],
   "source": [
    "#function to calculate the average trip length and the proportion of rides greater than 30 min\n",
    "\n",
    "def trip_length(filename,overage_cutoff=30):\n",
    "    \"\"\"\n",
    "    This function  returns the average trip length (in minutes)for each city\n",
    "    along with  proportion of rides made in each city which are longer than 30 minutes.\n",
    "    \"\"\"\n",
    "    with open(filename, 'r') as f_in:\n",
    "        # set up csv reader object\n",
    "        reader = csv.DictReader(f_in)\n",
    "        \n",
    "        # initialize count variables\n",
    "        total_duration = 0\n",
    "        count=0\n",
    "        overage_count=0\n",
    "\n",
    "        # compute total duration,overage rides(rides greater than 30 minutes) and average trip length\n",
    "        for row in reader:\n",
    "            total_duration+=round(float(row['duration']))\n",
    "            count+=1\n",
    "            duration=round(float(row['duration']))\n",
    "            if duration>overage_cutoff:\n",
    "                overage_count+=1\n",
    "        average_trip_length=round(total_duration/count,2)\n",
    "        overage_rides=round((overage_count/count)*100,4)\n",
    "                           \n",
    "        \n",
    "        #return(overage_rides,average_trip_length)\n",
    "        return(overage_rides,average_trip_length)\n"
   ]
  },
  {
   "cell_type": "code",
   "execution_count": 11,
   "metadata": {
    "collapsed": false
   },
   "outputs": [
    {
     "name": "stdout",
     "output_type": "stream",
     "text": [
      "Average trip length(minutes) summary :\n",
      " {'NYC': 15.81, 'Chicago': 16.56, 'Washington': 18.93}\n",
      "Proportion of rides(%) greater than 30 min: \n",
      " {'NYC': 6.96, 'Chicago': 7.98, 'Washington': 10.5}\n"
     ]
    }
   ],
   "source": [
    "#summary files to be processed\n",
    "data_files_summary = {'NYC': './data/NYC-2016-Summary.csv',\n",
    "              'Chicago': './data/Chicago-2016-Summary.csv',\n",
    "              'Washington': './data/Washington-2016-Summary.csv'}  \n",
    "\n",
    "#unpack values for the function to display the trip_length_summary and overage_trip_summary for eachh city\n",
    "trip_length_summary={}\n",
    "overage_trip_summary={}\n",
    "for city,file in data_files_summary.items():\n",
    "    overage_rides,average_trip_length=trip_length(file)\n",
    "    trip_length_summary[city]=average_trip_length   \n",
    "    overage_trip_summary[city]=round(overage_rides,2)\n",
    "print ('Average trip length(minutes) summary :\\n',trip_length_summary)\n",
    "print ('Proportion of rides(%) greater than 30 min: \\n',overage_trip_summary)\n"
   ]
  },
  {
   "cell_type": "markdown",
   "metadata": {},
   "source": [
    "**Question 4c**: Now digging deeper into the question of trip duration based on ridership. Choose one city. Within that city, which type of user takes longer rides on average: Subscribers or Customers?\n",
    "\n",
    "**Answer**: From the chosen city of Chicago,customers take longer rides on average of duration, 30.98 minutes in comparison to subscribers."
   ]
  },
  {
   "cell_type": "code",
   "execution_count": 12,
   "metadata": {
    "collapsed": true
   },
   "outputs": [],
   "source": [
    "# Find whether subscriber or customer takes longer rides on average in  Chicago.\n",
    "def longer_trip(filename):\n",
    "    \"\"\"\n",
    "    This function  returns the average trip length for customers and subscribers).\n",
    "    \"\"\"\n",
    "    with open(filename, 'r') as f_in:\n",
    "        # set up csv reader object\n",
    "        reader = csv.DictReader(f_in)\n",
    "        \n",
    "        # initialize variables\n",
    "        trip_length_subscriber=0\n",
    "        count_s=0\n",
    "        trip_length_customer=0\n",
    "        count_c=0\n",
    "\n",
    "        # compute and compare the average trip length  wrt subscribers and customers.\n",
    "        for row in reader:\n",
    "            trip_duration=round(float(row['duration']))\n",
    "            if  row['user_type']=='Subscriber':\n",
    "                trip_length_subscriber+=trip_duration\n",
    "                count_s+=1\n",
    "            elif  row['user_type']=='Customer':\n",
    "                trip_length_customer+=trip_duration\n",
    "                count_c+=1\n",
    "        \n",
    "        avg_trip_length_subscriber=round((trip_length_subscriber/count_s),2)\n",
    "        avg_trip_length_customer=round((trip_length_customer/count_c),2)\n",
    "        \n",
    "        if avg_trip_length_subscriber > avg_trip_length_customer:\n",
    "            return 'Subscribers take longer rides on average of duration,{} minutes.'.format(avg_trip_length_subscriber)\n",
    "        else:\n",
    "            return 'Customers take longer rides on average of duration, {} minutes.'.format(avg_trip_length_customer)    \n"
   ]
  },
  {
   "cell_type": "code",
   "execution_count": 13,
   "metadata": {
    "collapsed": false
   },
   "outputs": [
    {
     "name": "stdout",
     "output_type": "stream",
     "text": [
      "Customers take longer rides on average of duration, 30.98 minutes.\n"
     ]
    }
   ],
   "source": [
    "#file to be processed\n",
    "data_files_summary = {'Chicago': './data/Chicago-2016-Summary.csv'}    \n",
    "\n",
    "for city,file in data_files_summary.items():\n",
    "    longer_rides=longer_trip(file)\n",
    "    print(longer_rides)"
   ]
  },
  {
   "cell_type": "markdown",
   "metadata": {},
   "source": [
    "<a id='visualizations'></a>\n",
    "### Visualizations\n",
    "\n",
    "The last set of values shows interesting result. While the mean trip time for Subscribers is well under 30 minutes, the mean trip time for Customers is actually _above_ 30 minutes! It will be interesting to look at how the trip times are distributed."
   ]
  },
  {
   "cell_type": "code",
   "execution_count": 14,
   "metadata": {
    "collapsed": false
   },
   "outputs": [
    {
     "data": {
      "image/png": "iVBORw0KGgoAAAANSUhEUgAAAW4AAAEWCAYAAABG030jAAAABHNCSVQICAgIfAhkiAAAAAlwSFlz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\nAABJRU5ErkJggg==\n",
      "text/plain": [
       "<matplotlib.figure.Figure at 0x7efc341e3ac8>"
      ]
     },
     "metadata": {},
     "output_type": "display_data"
    }
   ],
   "source": [
    "# load library\n",
    "import matplotlib.pyplot as plt\n",
    "\n",
    "# this is a 'magic word' that allows for plots to be displayed\n",
    "# inline with the notebook. \n",
    "\n",
    "%matplotlib inline \n",
    "\n",
    "# example histogram, data taken from bay area sample\n",
    "data = [ 7.65,  8.92,  7.42,  5.50, 16.17,  4.20,  8.98,  9.62, 11.48, 14.33,\n",
    "        19.02, 21.53,  3.90,  7.97,  2.62,  2.67,  3.08, 14.40, 12.90,  7.83,\n",
    "        25.12,  8.30,  4.93, 12.43, 10.60,  6.17, 10.88,  4.78, 15.15,  3.53,\n",
    "         9.43, 13.32, 11.72,  9.85,  5.22, 15.10,  3.95,  3.17,  8.78,  1.88,\n",
    "         4.55, 12.68, 12.38,  9.78,  7.63,  6.45, 17.38, 11.90, 11.52,  8.63,]\n",
    "plt.hist(data)\n",
    "plt.title('Distribution of Trip Durations')\n",
    "plt.xlabel('Duration (m)')\n",
    "plt.show()"
   ]
  },
  {
   "cell_type": "markdown",
   "metadata": {},
   "source": [
    "In the above cell, we have collected fifty trip times in a list, and passed this list as the first argument to the `.hist()` function.\n",
    "\n",
    "Create a histogram of the trip times for the city  selected in question 4c. Without separating the Subscribers and Customers, all of the trip times will be collected and plotted."
   ]
  },
  {
   "cell_type": "code",
   "execution_count": 15,
   "metadata": {
    "collapsed": true
   },
   "outputs": [],
   "source": [
    "## collect all of the trip times as a list ##\n",
    "## use pyplot functions to generate a histogram of trip times.     ##\n",
    "\n",
    "def trip_list(filename):\n",
    "    \"\"\"\n",
    "    This function  collects the trip duration as a list.\n",
    "    \"\"\"\n",
    "    with open(filename, 'r') as f_in:\n",
    "        # set up csv reader object\n",
    "        reader = csv.DictReader(f_in)\n",
    "        \n",
    "        # list objects initialised\n",
    "        trip_duration_=[]\n",
    "        trip_duration_sub=[]\n",
    "        trip_duration_cus=[]\n",
    "        \n",
    "        # collect the trip duration\n",
    "        for row in reader:\n",
    "            trip_time=round(float(row['duration']))\n",
    "            trip_duration_.append(trip_time)\n",
    "            if row['user_type']=='Subscriber':\n",
    "                trip_duration_sub.append(trip_time)\n",
    "            else:\n",
    "                trip_duration_cus.append(trip_time)\n",
    "                \n",
    "        return trip_duration_,trip_duration_sub,trip_duration_cus\n"
   ]
  },
  {
   "cell_type": "code",
   "execution_count": 16,
   "metadata": {
    "collapsed": false
   },
   "outputs": [
    {
     "data": {
      "image/png": "iVBORw0KGgoAAAANSUhEUgAAAZUAAAEWCAYAAACufwpNAAAABHNCSVQICAgIfAhkiAAAAAlwSFlz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\n",
      "text/plain": [
       "<matplotlib.figure.Figure at 0x7efc1868b0f0>"
      ]
     },
     "metadata": {},
     "output_type": "display_data"
    },
    {
     "name": "stdout",
     "output_type": "stream",
     "text": [
      "Summary Statistics\n",
      "Lower_quartile:  7.0\n",
      "Upper_quartile:  20.0\n",
      "Mean : 16.5637243349\n",
      "Median : 12.0\n",
      "Standard Deviation : 32.8479081013\n"
     ]
    }
   ],
   "source": [
    "#Visualize the data distribution for the selected city,Chicago\n",
    "data_files_ = {'Chicago': './data/Chicago-2016-Summary.csv'}    \n",
    "for city,filename in data_files_.items():\n",
    "    trip_duration_,trip_duration_sub,trip_duration_cus=trip_list(filename)\n",
    "    \n",
    "plt.hist(trip_duration_,range=[10,80])\n",
    "plt.title('Total trip duration ')\n",
    "plt.xlabel('Trip duration (minutes)')\n",
    "plt.ylabel('Frequency of trip time')\n",
    "plt.show()\n",
    "\n",
    "#Summary Statistics\n",
    "lq_triptime=np.percentile(trip_duration_,25)\n",
    "print('Summary Statistics')\n",
    "print('Lower_quartile: ',lq_triptime)\n",
    "uq_triptime=np.percentile(trip_duration_,75)\n",
    "print('Upper_quartile: ',uq_triptime)\n",
    "print('Mean :',np.mean(trip_duration_)  )\n",
    "print('Median :',np.median(trip_duration_))\n",
    "print('Standard Deviation :',np.std(trip_duration_))"
   ]
  },
  {
   "cell_type": "markdown",
   "metadata": {},
   "source": [
    "The plot consists of one extremely tall bar on the left, maybe a very short second bar, and a whole lot of empty space in the center and right. This suggests that there are some highly infrequent outliers in the data. Instead of reprocessing the data, we shall use additional parameters with the `.hist()` function to limit the range of data that is plotted. \n",
    "\n",
    "**Question 5**: Plot the distribution of trip times for the Subscribers in the selected city and repeat the same for only the Customers. Limits are added to the plots so that only trips of duration less than 75 minutes are plotted. Set the plots up so that bars are in five-minute wide intervals. For each group, identify the peak of each distribution. Describe the shape of each distribution.\n",
    "\n",
    "**Answer**:\n",
    "\n",
    "\n",
    "| Group      | Distribution Type       | Peak Value | \n",
    "| ---------- | ----------------------- | ---------- |\n",
    "| Subscriber | Right skewed            | 1          |\n",
    "| Customer   | Right skewed            | 15.8       |\n"
   ]
  },
  {
   "cell_type": "code",
   "execution_count": 17,
   "metadata": {
    "collapsed": false
   },
   "outputs": [
    {
     "name": "stdout",
     "output_type": "stream",
     "text": [
      "Summary Statistics\n",
      "Lower_quartile:  6.0\n",
      "Upper_quartile:  15.0\n",
      "Mean : 12.0674402532\n",
      "Median : 10.0\n",
      "Standard Deviation : 21.5610885968\n",
      "\n",
      "Mean being greater than Median,the distribution of data is right skewed\n",
      "Peak value  for the group, Subscriber is 1.0\n"
     ]
    },
    {
     "data": {
      "image/png": "iVBORw0KGgoAAAANSUhEUgAAAZUAAAEWCAYAAACufwpNAAAABHNCSVQICAgIfAhkiAAAAAlwSFlz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\nXcUAAAAASUVORK5CYII=\n",
      "text/plain": [
       "<matplotlib.figure.Figure at 0x7efc1a711e10>"
      ]
     },
     "metadata": {},
     "output_type": "display_data"
    },
    {
     "name": "stdout",
     "output_type": "stream",
     "text": [
      "Summary Statistics\n",
      "Lower_quartile:  15.0\n",
      "Upper_quartile:  32.0\n",
      "Mean : 30.9794157094\n",
      "Median : 23.0\n",
      "Standard Deviation : 52.6807132688\n",
      "\n",
      "Mean being greater than Median,the distribution of data is right skewed\n",
      "Peak value for the group, Customer is 15.8\n"
     ]
    },
    {
     "data": {
      "image/png": "iVBORw0KGgoAAAANSUhEUgAAAY4AAAEWCAYAAABxMXBSAAAABHNCSVQICAgIfAhkiAAAAAlwSFlz\nAAALEgAACxIB0t1+/AAAADl0RVh0U29mdHdhcmUAbWF0cGxvdGxpYiB2ZXJzaW9uIDIuMS4wLCBo\ndHRwOi8vbWF0cGxvdGxpYi5vcmcvpW3flQAAIABJREFUeJzt3Xu8FXW9//HXO/CeCioqcQlMjmkX\nlbZIWScVU9SOeH6/LDxWZCjV4VdZp3PCToWllv7qpPmrNEoUrbyWylFLES9lvxTwEl6QQCXZgoBy\n8S6in/PHfJcO27XXXrPds9fa7Pfz8ZjHmvnOd2Y+ay1Ynz3fmfl+FRGYmZnV6y2NDsDMzHoWJw4z\nMyvEicPMzApx4jAzs0KcOMzMrBAnDjMzK8SJw0oj6VuSzuuifZ0g6dau2Fedx9tN0rMl7ftDkhZL\nelbSR8s4hlmZnDisLulHrjK9KumF3PJx1baJiFMj4vPdHWtnSGqVdGBlOSIeiYi3lnS404CzIuKt\nEXFtScfoNEm7S/IDXtauvo0OwHqG/I+opCXACRFxU3v1JfWNiA3dEVtHmimW5O3AA53ZsAnfS6l6\n2/vtKXzGYV1C0mmSLpN0iaRngE+msgvT+t0lhaQTJS1L01dq7G+ApGslPS3pDmB4bt0b/iKWdLuk\nz6T5EyT9UdI5klYD35Q0QtItkp6S9KSkiyVtn+pfArwN+H06g/pq22NIGpziWS1pkaTPtnnvl0j6\nlaRnJN0vaWQ772sJMDR3rD517Hujz7XKPreWdJakxyStS+99C0mHpOPl6752ZiVptKS702e8QtIP\nUrU/pvWVM8r9JL1F0rcl/V3SSkkXStquzXf7mbT/1el73l/SfZLWSvpxmzhOkPSQpDWSfi9pSCrv\nm/b1r5IWAw+lY5+TjrtO0nxJe1X7fK2bRIQnT4UmYAlwSJuy04D1wD+R/UGyVSq7MK3fHQjgYmBr\nYG/gKeDAdo5xJXBJqvteYDlwa35fberfDnwmzZ8AbAC+APRJsfwDMAbYHNgZ+DPww9z2rflY2h4j\n1f9/wJbASOBJ4MO59/4CcFg63g+A22t8fm2P1dG+N/pcq+zv58BsYGA6/geBzYBDgCXtHRuYCxyb\n5rcF9q/x+U4C/kaWwLcFrgEuaPPd/gTYAjgifR5XAQOAwem7PiDV/xiwENiDrNXjFOBPaV3ftK8/\nAP3Td3ckMAfYPn0GewG7Nvr/QW+efMZhXen2iPjviHg1Il5op853IuL5iPgrMAM4tm0FSZsBRwPf\nSnXnkyWcIh6LiHMj4pWIeCEi/hYRsyNifUSsBM4CPlzPjiQNB0YBUyLixYi4G7gA+FSu2m0RcUNE\nvJJi3acL993u5yqpD/AZ4EsRsTy939sj4uU6Dv8yMELSjhHxTETcWaPucWSJ9tGIeAb4BvAvkvK/\nIadGxEsRcT1ZsvtVRKyKiFayxL5vqvc54HsRsTCyZqjTgFGSBuX29b2IWJPe78vAdsA7ASLiwYh4\noo73ZyVx4rCutLRgnb+TNRG1tQvZX85t63Y6Fkm7Srpc0uOSngYuBHaqc19vA56MiOfaxJP/ocv/\nkD0PbNOF+671ue5Cdhb1cJ3Hyzue7K/3hZLmSDqigzjz38Hf03EHVAoiYkVu/QtA2+XKdbK3Az9N\nTVhryc6wXiU7M6l47T1HxI3AecC5wApJ50natr63aGVw4rCuVM+dOENy80OBZVXqrCD7IWlbt+I5\nyNr2c2W7dhDLmcBLwHsiYjuyv9JVo37eMmAnSflkMBR4vMY29apn37ViW0H21/07qqx7jqypD8iu\nHwA7vrbT7C/+8WRNd/8F/FbSlu0cbxnZD34+xvXAqhqxtWcpMDEi+uWmrdqc8WwUQ0ScHREjgXeT\nJbuvduK41kWcOKy7fUvSVpLeA0wALmtbITWzXA18J9V9Nxs33TyRpk+mi8uT2PhHrZptyX5I16UL\nsV9rs34FsFu1DSPiUWAe8L100Xkfsr/Wf93BMTv0ZvedmsYuBM5OZ1V9JB2QmvseAraVdFhankp2\n7QMASZ+StFNEvAqsI/uxfhVYCYSk/OdxCfBVScPSX/unA5ekbYs6D/hPSXumOPpJ+lh7lSWNSlNf\nsu9wPfBKJ45rXcSJw7rb7cAjwI3A9yPi5nbqfYHs4ugK4Hyydn8gXbWFE8na2Z8kuzhbq30esh/N\nUWQ/kDOB37ZZ/z2yRLVW0klVtv8EMIIsYV0JfCMibungmPV6s/v+CrAAuAtYTfZeFBFrgC+SXUt6\nPK3LN6kdASxId2v9EPhEugb0DPB94M70ebQAvyBL8n8i+/6eAb7cmTcbEVcAPwKuSM2G88luLGhP\nP7J/A2vJbsxYTnaNyhpE2f9Bs3JJ2h1YFBHqsLKZNTWfcZiZWSFOHGZmVoibqszMrBCfcZiZWSGb\nZCeHO+20UwwbNqzRYZiZ9Sh33XXXkxExoKN6m2TiGDZsGPPmzWt0GGZmPYqkunpocFOVmZkV4sRh\nZmaFOHGYmVkhThxmZlaIE4eZmRXixGFmZoWUmjgkfUXSA2kM5kskbSlpuKQ709jKl0naPNXdIi0v\nTuuH5fZzcipfKKlWL5pmZlay0hJHGgbyS0BLRLybbES38WQD6pwVESOANcDEtMlEYE1E7E7WZfKZ\naT97pe3eBYwFfpaGyzQzswYou6mqL7BVGoBla7J+9A8mG3MAsnECjk7z49Iyaf0YSUrll6axjB8F\nFpONq2BmZg1Q2pPjEfG4pB8Cj5GNN3wj2UAza9MA9QCtvD628iDSOMMRsUHSOrJhLgcBd+R2nd/m\nNWkUuEkAQ4cObbvaahg25bpGh9DtlpxxZKNDMOuxymyq6k92tjCcbKD7bYDDq1StdM9bbYCfqFG+\ncUHEtIhoiYiWAQM67GrFzMw6qcymqkOARyNiVRpD+nfAB4B+qekKYDCwLM23AkMA0vrtyYa6fK28\nyjZmZtbNykwcjwGjJW2drlWMAR4EbgEqA9NPAK5J8zPTMmn9zWls6ZnA+HTX1XCysZnnlBi3mZnV\nUOY1jjslXQncDWwA7gGmAdcBl0o6LZWdnzY5H7hY0mKyM43xaT8PSLqcLOlsACZHxCtlxW1mZrWV\n2q16REwFprYpfoQqd0VFxIvAMe3s53Tg9C4P0MzMCvOT42ZmVogTh5mZFeLEYWZmhThxmJlZIU4c\nZmZWiBOHmZkV4sRhZmaFOHGYmVkhThxmZlaIE4eZmRXixGFmZoU4cZiZWSFOHGZmVogTh5mZFeLE\nYWZmhThxmJlZIU4cZmZWSGmJQ9Ieku7NTU9LOknSDpJmSVqUXvun+pJ0jqTFkuZLGpnb14RUf5Gk\nCe0f1czMylZa4oiIhRGxT0TsA7wPeB64CpgCzI6IEcDstAxwODAiTZOAcwEk7UA2/Oz+ZEPOTq0k\nGzMz637d1VQ1Bng4Iv4OjANmpPIZwNFpfhxwUWTuAPpJGggcBsyKiNURsQaYBYztprjNzKyN7koc\n44FL0vwuEbEcIL3unMoHAUtz27SmsvbKNyJpkqR5kuatWrWqi8M3M7OK0hOHpM2Bo4ArOqpapSxq\nlG9cEDEtIloiomXAgAHFAzUzs7p0xxnH4cDdEbEiLa9ITVCk15WpvBUYkttuMLCsRrmZmTVAdySO\nY3m9mQpgJlC5M2oCcE2u/NPp7qrRwLrUlHUDcKik/umi+KGpzMzMGqBvmTuXtDXwEeBzueIzgMsl\nTQQeA45J5dcDRwCLye7AOh4gIlZLOhWYm+p9NyJWlxm3mZm1r9TEERHPAzu2KXuK7C6rtnUDmNzO\nfqYD08uI0czMivGT42ZmVogTh5mZFeLEYWZmhThxmJlZIU4cZmZWiBOHmZkV4sRhZmaFOHGYmVkh\nThxmZlaIE4eZmRXixGFmZoU4cZiZWSFOHGZmVogTh5mZFeLEYWZmhThxmJlZIU4cZmZWSKmJQ1I/\nSVdKekjSAknvl7SDpFmSFqXX/qmuJJ0jabGk+ZJG5vYzIdVfJGlC+0c0M7OylX3G8WPgDxHxTmBv\nYAEwBZgdESOA2WkZ4HBgRJomAecCSNoBmArsD4wCplaSjZmZdb/SEoek7YB/BM4HiIj1EbEWGAfM\nSNVmAEen+XHARZG5A+gnaSBwGDArIlZHxBpgFjC2rLjNzKy2Ms84dgNWARdIukfSLyVtA+wSEcsB\n0uvOqf4gYGlu+9ZU1l75RiRNkjRP0rxVq1Z1/bsxMzOg3MTRFxgJnBsR+wLP8XqzVDWqUhY1yjcu\niJgWES0R0TJgwIDOxGtmZnUoM3G0Aq0RcWdavpIskaxITVCk15W5+kNy2w8GltUoNzOzBigtcUTE\nE8BSSXukojHAg8BMoHJn1ATgmjQ/E/h0urtqNLAuNWXdABwqqX+6KH5oKjMzswboW/L+vwj8WtLm\nwCPA8WTJ6nJJE4HHgGNS3euBI4DFwPOpLhGxWtKpwNxU77sRsbrkuM3MrB2lJo6IuBdoqbJqTJW6\nAUxuZz/TgeldG52ZmXWGnxw3M7NCnDjMzKwQJw4zMyvEicPMzApx4jAzs0KcOMzMrBAnDjMzK8SJ\nw8zMCnHiMDOzQpw4zMysECcOMzMrxInDzMwKceIwM7NCnDjMzKwQJw4zMyvEicPMzAqpK3FIenfZ\ngZiZWc9Q7xnHeZLmSPpXSf3q3bmkJZLuk3SvpHmpbAdJsyQtSq/9U7kknSNpsaT5kkbm9jMh1V8k\naUJ7xzMzs/LVlTgi4oPAccAQYJ6k30j6SJ3HOCgi9omIyhCyU4DZETECmJ2WAQ4HRqRpEnAuZIkG\nmArsD4wCplaSjZmZdb+6r3FExCLgm8DXgQ8D50h6SNL/KnjMccCMND8DODpXflFk7gD6SRoIHAbM\niojVEbEGmAWMLXhMMzPrIvVe43ivpLOABcDBwD9FxJ5p/qwamwZwo6S7JE1KZbtExHKA9LpzKh8E\nLM1t25rK2itvG+MkSfMkzVu1alU9b8vMzDqhb531fgL8AvhGRLxQKYyIZZK+WWO7A1KdnYFZkh6q\nUVdVyqJG+cYFEdOAaQAtLS1vWG9mZl2j3qaqI4DfVJKGpLdI2hogIi5ub6OIWJZeVwJXkV2jWJGa\noEivK1P1VrJrKBWDgWU1ys3MrAHqTRw3AVvllrdOZe2StI2kbSvzwKHA/cBMoHJn1ATgmjQ/E/h0\nurtqNLAuNWXdABwqqX+6KH5oKjMzswaot6lqy4h4trIQEc9Wzjhq2AW4SlLlOL+JiD9ImgtcLmki\n8BhwTKp/PdmZzWLgeeD4dKzVkk4F5qZ6342I1XXGbWZmXazexPGcpJERcTeApPcBL9TaICIeAfau\nUv4UMKZKeQCT29nXdGB6nbGamVmJ6k0cJwFXSKpcWxgIfKKckMzMrJnVlTgiYq6kdwJ7kN3l9FBE\nvFxqZGZm1pTqPeMA2A8YlrbZVxIRcVEpUZmZWdOqK3FIuhh4B3Av8EoqDsCJw8ysl6n3jKMF2Ctd\nwDYzs16s3uc47gd2LTMQMzPrGeo949gJeFDSHOClSmFEHFVKVGZm1rTqTRynlBmEmZn1HPXejnub\npLcDIyLipvTUeJ9yQ2ucYVOua3QIZmZNq95u1U8ErgR+nooGAVeXFZSZmTWvei+OTwYOAJ6G1wZ1\n2rnmFmZmtkmqN3G8FBHrKwuS+lJlTAwzM9v01Zs4bpP0DWCrNNb4FcB/lxeWmZk1q3oTxxRgFXAf\n8DmyLtBrjfxnZmabqHrvqnqVbOjYX5QbjpmZNbt6+6p6lOrjfO/W5RGZmVlTq7epqoWsd9z9gA8B\n5wC/qmdDSX0k3SPp2rQ8XNKdkhZJukzS5ql8i7S8OK0fltvHyal8oaTD6n97ZmbW1epKHBHxVG56\nPCLOBg6u8xhfBhbkls8EzoqIEcAaYGIqnwisiYjdgbNSPSTtBYwH3gWMBX4maZN9+NDMrNnV+wDg\nyNzUIunzwLZ1bDcYOBL4ZVoWWcK5MlWZARyd5selZdL6Man+OODSiHgpIh4lG5N8VF3vzszMuly9\nfVX9V25+A7AE+Hgd250N/AevJ5kdgbURsSEtt5I9hU56XQoQERskrUv1BwF35PaZ38bMzLpZvXdV\nHVR0x5I+CqyMiLskHVgprrb7DtbV2iZ/vEnAJIChQ4cWDdfMzOpU711VX621PiJ+VKX4AOAoSUcA\nWwLbkZ2B9JPUN511DAaWpfqtwBCgNT2Zvj2wOldekd8mH8M0YBpAS0uLn2o3MytJkbuqvkDWRDQI\n+DywF1kTVNVrHRFxckQMjohhZBe3b46I44BbgI+lahOAa9L8zLRMWn9zGnFwJjA+3XU1HBgBzKn7\nHZqZWZcqMpDTyIh4BkDSKcAVEXFCJ475deBSSacB9wDnp/LzgYslLSY70xgPEBEPSLoceJDs+srk\niHjljbs1M7PuUG/iGAqszy2vB4bVe5CIuBW4Nc0/QpW7oiLiReCYdrY/HTi93uOZmVl56k0cFwNz\nJF1FdmH6n4GLSovKzMyaVr13VZ0u6fdkT40DHB8R95QXlpmZNat6L44DbA08HRE/JrvzaXhJMZmZ\nWROr98nxqWQXtU9ORZtRZ19VZma2aan3jOOfgaOA5wAiYhl1dDliZmabnnoTx/r0TEUASNqmvJDM\nzKyZ1Zs4Lpf0c7Knvk8EbsKDOpmZ9Ur13lX1wzTW+NPAHsC3I2JWqZGZmVlT6jBxpLEvboiIQwAn\nCzOzXq7DpqrUvcfzkrbvhnjMzKzJ1fvk+IvAfZJmke6sAoiIL5USlZmZNa16E8d1aTIzs16uZuKQ\nNDQiHouIGbXqmZlZ79HRNY6rKzOSfltyLGZm1gN0lDjyw7buVmYgZmbWM3SUOKKdeTMz66U6uji+\nt6Snyc48tkrzpOWIiO1Kjc7MzJpOzTOOiOgTEdtFxLYR0TfNV5ZrJg1JW0qaI+mvkh6Q9J1UPlzS\nnZIWSbpM0uapfIu0vDitH5bb18mpfKGkw9782zYzs84qMh5HUS8BB0fE3sA+wFhJo4EzgbMiYgSw\nBpiY6k8E1kTE7sBZqR6S9iIbf/xdwFjgZ+lpdjMza4DSEkdknk2Lm6UpgIOBK1P5DODoND8uLZPW\nj5GkVH5pRLwUEY8Ci6kyZrmZmXWPMs84kNRH0r3ASrJ+rh4G1kbEhlSlFRiU5gcBSwHS+nXAjvny\nKtvkjzVJ0jxJ81atWlXG2zEzM0pOHBHxSkTsAwwmO0vYs1q19Kp21rVX3vZY0yKiJSJaBgwY0NmQ\nzcysA6UmjoqIWAvcCowmG9OjcjfXYGBZmm8FhgCk9dsDq/PlVbYxM7NuVlrikDRAUr80vxVwCLAA\nuAX4WKo2Abgmzc9My6T1N6dRB2cC49NdV8OBEcCcsuI2M7Pa6u3ksDMGAjPSHVBvAS6PiGslPQhc\nKuk04B7g/FT/fOBiSYvJzjTGA0TEA5IuBx4ENgCTU1fvZmbWAKUljoiYD+xbpfwRqtwVFREvAse0\ns6/TgdO7OkYzMyuuW65xmJnZpsOJw8zMCnHiMDOzQpw4zMysECcOMzMrxInDzMwKceIwM7NCnDjM\nzKwQJw4zMyvEicPMzApx4jAzs0LK7OTQrGkNm3Jdo0PodkvOOLLRIdgmwmccZmZWiBOHmZkV4sRh\nZmaFOHGYmVkhThxmZlZImWOOD5F0i6QFkh6Q9OVUvoOkWZIWpdf+qVySzpG0WNJ8SSNz+5qQ6i+S\nNKG9Y5qZWfnKPOPYAPxbROwJjAYmS9oLmALMjogRwOy0DHA4MCJNk4BzIUs0wFRgf7IhZ6dWko2Z\nmXW/0hJHRCyPiLvT/DPAAmAQMA6YkarNAI5O8+OAiyJzB9BP0kDgMGBWRKyOiDXALGBsWXGbmVlt\n3XKNQ9IwYF/gTmCXiFgOWXIBdk7VBgFLc5u1prL2ytseY5KkeZLmrVq1qqvfgpmZJaUnDklvBX4L\nnBQRT9eqWqUsapRvXBAxLSJaIqJlwIABnQvWzMw6VGrikLQZWdL4dUT8LhWvSE1QpNeVqbwVGJLb\nfDCwrEa5mZk1QJl3VQk4H1gQET/KrZoJVO6MmgBckyv/dLq7ajSwLjVl3QAcKql/uih+aCozM7MG\nKLOTwwOATwH3Sbo3lX0DOAO4XNJE4DHgmLTueuAIYDHwPHA8QESslnQqMDfV+25ErC4xbjMzq6G0\nxBERt1P9+gTAmCr1A5jczr6mA9O7LjozM+ssPzluZmaFOHGYmVkhThxmZlaIE4eZmRXixGFmZoU4\ncZiZWSFOHGZmVogTh5mZFeLEYWZmhThxmJlZIU4cZmZWiBOHmZkV4sRhZmaFOHGYmVkhThxmZlaI\nE4eZmRXixGFmZoWUOeb4dEkrJd2fK9tB0ixJi9Jr/1QuSedIWixpvqSRuW0mpPqLJE2odiwzM+s+\nZZ5xXAiMbVM2BZgdESOA2WkZ4HBgRJomAedClmiAqcD+wChgaiXZmJlZY5SWOCLij8DqNsXjgBlp\nfgZwdK78osjcAfSTNBA4DJgVEasjYg0wizcmIzMz60Z9u/l4u0TEcoCIWC5p51Q+CFiaq9eaytor\nfwNJk8jOVhg6dGgXh23W8w2bcl2jQ+h2S844stEhbJKa5eK4qpRFjfI3FkZMi4iWiGgZMGBAlwZn\nZmav6+7EsSI1QZFeV6byVmBIrt5gYFmNcjMza5DuThwzgcqdUROAa3Lln053V40G1qUmrRuAQyX1\nTxfFD01lZmbWIKVd45B0CXAgsJOkVrK7o84ALpc0EXgMOCZVvx44AlgMPA8cDxARqyWdCsxN9b4b\nEW0vuJuZWTcqLXFExLHtrBpTpW4Ak9vZz3RgeheGZmZmb0KzXBw3M7MewonDzMwKceIwM7NCnDjM\nzKwQJw4zMyvEicPMzApx4jAzs0KcOMzMrJDu7h3XzKzbuEfgcviMw8zMCnHiMDOzQpw4zMysECcO\nMzMrxInDzMwKceIwM7NCnDjMzKwQJw4zMyukxyQOSWMlLZS0WNKURsdjZtZb9YjEIakP8FPgcGAv\n4FhJezU2KjOz3qlHJA5gFLA4Ih6JiPXApcC4BsdkZtYr9ZS+qgYBS3PLrcD++QqSJgGT0uKzkhbW\nue+dgCffdITl6wlxOsau4Ri7Rq+MUWe+qc3fXk+lnpI4VKUsNlqImAZMK7xjaV5EtHQ2sO7SE+J0\njF3DMXYNx1ientJU1QoMyS0PBpY1KBYzs16tpySOucAIScMlbQ6MB2Y2OCYzs16pRzRVRcQGSf8H\nuAHoA0yPiAe6aPeFm7capCfE6Ri7hmPsGo6xJIqIjmuZmZklPaWpyszMmoQTh5mZFdKrE0czdmMi\nabqklZLuz5XtIGmWpEXptX+DYxwi6RZJCyQ9IOnLzRanpC0lzZH01xTjd1L5cEl3phgvSzdbNJSk\nPpLukXRtE8e4RNJ9ku6VNC+VNc33neLpJ+lKSQ+lf5vvb6YYJe2RPr/K9LSkk5opxnr12sTRxN2Y\nXAiMbVM2BZgdESOA2Wm5kTYA/xYRewKjgcnps2umOF8CDo6IvYF9gLGSRgNnAmelGNcAExsYY8WX\ngQW55WaMEeCgiNgn99xBM33fAD8G/hAR7wT2JvtMmybGiFiYPr99gPcBzwNXNVOMdYuIXjkB7wdu\nyC2fDJzc6LhSLMOA+3PLC4GBaX4gsLDRMbaJ9xrgI80aJ7A1cDdZbwNPAn2r/RtoUGyDyX4sDgau\nJXvYtaliTHEsAXZqU9Y03zewHfAo6YafZoyxTVyHAn9u5hhrTb32jIPq3ZgMalAsHdklIpYDpNed\nGxzPayQNA/YF7qTJ4kxNQPcCK4FZwMPA2ojYkKo0w3d+NvAfwKtpeUeaL0bIemq4UdJdqXsfaK7v\nezdgFXBBavb7paRtmizGvPHAJWm+WWNsV29OHB12Y2K1SXor8FvgpIh4utHxtBURr0TWLDCYrKPM\nPatV696oXifpo8DKiLgrX1ylajP8uzwgIkaSNe1OlvSPjQ6ojb7ASODciNgXeI4mbfJJ16yOAq5o\ndCyd1ZsTR0/qxmSFpIEA6XVlg+NB0mZkSePXEfG7VNx0cQJExFrgVrLrMf0kVR58bfR3fgBwlKQl\nZD0+H0x2BtJMMQIQEcvS60qydvlRNNf33Qq0RsSdaflKskTSTDFWHA7cHREr0nIzxlhTb04cPakb\nk5nAhDQ/geyaQsNIEnA+sCAifpRb1TRxShogqV+a3wo4hOxi6S3Ax1K1hsYYESdHxOCIGEb27+/m\niDiOJooRQNI2kratzJO1z99PE33fEfEEsFTSHqloDPAgTRRjzrG83kwFzRljbY2+yNLICTgC+BtZ\n2/d/NjqeFNMlwHLgZbK/oiaStXvPBhal1x0aHOMHyZpP5gP3pumIZooTeC9wT4rxfuDbqXw3YA6w\nmKypYItGf+cprgOBa5sxxhTPX9P0QOX/SjN93ymefYB56Tu/GujfhDFuDTwFbJ8ra6oY65nc5YiZ\nmRXSm5uqzMysE5w4zMysECcOMzMrxInDzMwKceIwM7NCnDisqUjaMdd76BOSHs8tb96m7g2V5ws6\ncZzdU3ckXULSZyXtmlu+IPdMQWf29zVJ/1Kgfh9Jf3oTxzs4dQLZmW13lXRdZ49tPU+PGDrWeo+I\neIrsfnwknQI8GxE/zNdJDyAqIg7rztgk9YmIV9pZ/VmyjhSfAIiI49/EcTYDPkX25HNdUlwf6uwx\nyZ5afxK4o+iGEfGEpNWS9o/Xn9y2TZjPOKxHSGcI90s6j+wHeqCk1jQGw+5pzI2L05gRl6enxdvu\nYz9J8yX9Bfh8rvwESWfnlv8g6YOS+kpaK+k0SXOAUZK+I2luJRZlPkGW7C6rnBlJul1SJQF+MsV1\nv6TvpbLKvs9QNmbIXyRVOrf7CDC3kqTSvn4k6U+SHpTUIumqNH7DKfn9pflDJM2W9Dtl481clHtv\nrbkn6kdLuknSO4ATgH9P8X9A0i5p+3nKxjUZnbY5OMV7r6S705PkkD1wd9yb/Jqth3DisJ5kL+D8\niNg3Ih6vsu6nEfEe4EXgc1W2vxD4QkS8H+hT5zG3J+tXaFRE/AX4cUTsB7wnrRsbEZeRPT3/icjG\nW1hf2VjSYOA04CCyXoQPUNa5YWXft0U2ZshfyM5aIOvDKt/xIcALEfEhsq5eriZLfO8BJlUSQRsj\ngcnpc9mzVjNURDwM/BL4QYqgDFU0AAACbklEQVT//wPnAP83srE3Pp7WA/w7MCmyziP/keyzhuyJ\n7TdzxmM9iBOH9SQPR8TcdtY9GhGVZpZfkXWL8hpJOwFbRcSfU9HFdR5zPVmnfhVj0tnHX4EPA+/q\nYPv9yfqgejIiXgZ+Q/aDC1ky+H2av4tsHBbIxmRY1WY/lX7U7gPui4gVEfEi2TgZg6sc946IWJ7O\nWu7N7btehwDnpetAVwP901ncn4GzJX0R2C7XdLcSeFvBY1gP5Wsc1pM8V2Nd275zqvWl017/OhvY\n+I+oLXPzL0Tql0fS1sBPgJER8bik09rUraZaN+kV63Pzr/D6/8cXquz3pfT6am6+slzt/3G+Tn7f\n+fdaK3YBo/JnT8lpkmYCRwJzJR0YEYvSvl6osT/bhPiMwzYVwyXtl+aPBW7Pr4yIJ4EXJb0/FeXb\n45cA+6brFcPIhvWsZiuyH+on091c/zu37hmg2h1edwAHKbtbrC9ZL7i3dfBeFgC7d1Cns5bw+vur\nFf9NZE1dAOSu17wjIuZHxPfJOpGs3Dn2D2SdSVov4MRhm4oHgBMlzQe2AaZVqXM88PN0cfzZXPlt\nwONkzUBnkDXtvEG642sG2Q/kVWSjHlZcAPxSbW4bjohW4Ntk44HcS9aE1NGtq9eTNYOV4RTgZ+nW\n3fzZxDXAx5WNnvcBsqRxQLqZ4EHgxFTva+ki/3xgLXBjKj8I8C25vYR7x7UeT9LuwJXpgu0mITUH\nnRQRjzQ6lo6k26P/BBwZEesaHY+Vz2ccZs3p6/Sci807k92B5aTRS/iMw8zMCvEZh5mZFeLEYWZm\nhThxmJlZIU4cZmZWiBOHmZkV8j+nD3o46bygpQAAAABJRU5ErkJggg==\n",
      "text/plain": [
       "<matplotlib.figure.Figure at 0x7efc1833aa20>"
      ]
     },
     "metadata": {},
     "output_type": "display_data"
    }
   ],
   "source": [
    "#unpack the values of hist function: y refers to values of the data considered and x refers to histogram bins.\n",
    "#Find its peak value:bin value of the highest frequency.\n",
    "# Trip duration for the group - subscriber.Bin edges - 5 min,range of values/time selected: 1 to 75 min\n",
    "import numpy as np\n",
    "\n",
    "#Summary statistics\n",
    "print('Summary Statistics')  \n",
    "lq_trip_s=np.percentile(trip_duration_sub,25)\n",
    "print('Lower_quartile: ',lq_trip_s)\n",
    "uq_trip_s=np.percentile(trip_duration_sub,75)\n",
    "print('Upper_quartile: ',uq_trip_s)\n",
    "print('Mean :',np.mean(trip_duration_sub))\n",
    "print('Median :',np.median(trip_duration_sub))\n",
    "print('Standard Deviation :',np.std(trip_duration_sub))\n",
    "print('\\nMean being greater than Median,the distribution of data is right skewed')\n",
    "\n",
    "#plot the graph\n",
    "y,x,patch=plt.hist(trip_duration_sub,bins=5,range=[1,75])\n",
    "bin_max = np.where(y==y.max())\n",
    "print( 'Peak value  for the group, Subscriber is', x[bin_max][0])\n",
    "plt.title('Trip duration for subscribers')\n",
    "plt.xlabel('Trip duration(minutes)')\n",
    "plt.ylabel('Frequency')\n",
    "plt.show()\n",
    "\n",
    "\n",
    "# Trip duration for the group - subscriber.Bin edges - 5 min,range of values/time selected: to 75 min\n",
    "#Summary Statistics\n",
    "print('Summary Statistics')  \n",
    "lq_trip_c=np.percentile(trip_duration_cus,25)\n",
    "print('Lower_quartile: ',lq_trip_c)\n",
    "uq_trip_c=np.percentile(trip_duration_cus,75)\n",
    "print('Upper_quartile: ',uq_trip_c)\n",
    "print('Mean :',np.mean(trip_duration_cus))\n",
    "print('Median :',np.median(trip_duration_cus))\n",
    "print('Standard Deviation :',np.std(trip_duration_cus))\n",
    "print('\\nMean being greater than Median,the distribution of data is right skewed')\n",
    "\n",
    "#plot the graph\n",
    "y_axis,x_axis,patch=plt.hist(trip_duration_cus,bins=5,range=[1,75])\n",
    "bin_max = np.where(y_axis==y_axis.max())\n",
    "print( 'Peak value for the group, Customer is', x_axis[bin_max][0])\n",
    "plt.title('Trip duration for customers')\n",
    "plt.xlabel('Trip duration(minutes)')\n",
    "plt.ylabel('Frequency')\n",
    "plt.show()"
   ]
  },
  {
   "cell_type": "markdown",
   "metadata": {
    "collapsed": true
   },
   "source": [
    "<a id='eda_continued'></a>\n",
    "## Additional exploration and analysis\n",
    "\n",
    "So far, we've performed an initial exploration into the data available, we have compared the relative volume of trips made between three U.S. cities and the ratio of trips made by Subscribers and Customers. For one of these cities, we have investigated differences between Subscribers and Customers in terms of how long a typical trip lasts. \n",
    "\n",
    "We shall now explore ridership pattern for weekdays and weekend for the given cities and illustrate this with a bar and line chart respectively:\n",
    "1.  Ridership pattern for the days of week between subscribers and customers.Ridership count(based on user type) against days of the week has been visualized separately as well as together. The bar chart shows  customer ridership is highest on saturday and that of subscriber is on thursday.There is an increase in ridership count for customer group for weekend as against the group, subscriber where  as  weekdays see a higher ridership.\n",
    "\n",
    "2. The second visualization finds and compares the peak usage pattern for the groups:subscriber and customer.The subscriber group bike usage peaks in the morning, at 8  and in the evening at 5.While the customer group also sees a similar peak usage however the peak curve is smoother around 8 in the morning and peaks in the evening at 5."
   ]
  },
  {
   "cell_type": "code",
   "execution_count": 18,
   "metadata": {
    "collapsed": true
   },
   "outputs": [],
   "source": [
    "\n",
    "#Determine ridership pattern for weekdays and weekend for the given cities.\n",
    "def ridership(filename):\n",
    "    \"\"\"\n",
    "    This function  returns the ridership count for weekdays and weekends for user types:subscriber and customer.\n",
    "    \"\"\"\n",
    "    with open(filename, 'r') as f_in:\n",
    "        # set up csv reader object\n",
    "        reader = csv.DictReader(f_in)\n",
    "        \n",
    "        # list object initialised\n",
    "        ridership_pattern_s={}\n",
    "        ridership_pattern_c={}\n",
    "              \n",
    "        # compute the city ride count\n",
    "        for row in reader:\n",
    "            if row['user_type']=='Subscriber':\n",
    "                ridership_pattern_s[row['day_of_week']]=ridership_pattern_s.get(row['day_of_week'],0)+1\n",
    "            if row['user_type']=='Customer':\n",
    "                ridership_pattern_c[row['day_of_week']]=ridership_pattern_c.get(row['day_of_week'],0)+1                \n",
    "        return ridership_pattern_s,ridership_pattern_c"
   ]
  },
  {
   "cell_type": "code",
   "execution_count": 19,
   "metadata": {
    "collapsed": false
   },
   "outputs": [
    {
     "name": "stdout",
     "output_type": "stream",
     "text": [
      "{'Friday': 7958,\n",
      " 'Monday': 7658,\n",
      " 'Saturday': 5589,\n",
      " 'Sunday': 5252,\n",
      " 'Thursday': 8454,\n",
      " 'Tuesday': 8322,\n",
      " 'Wednesday': 8520}\n",
      "{'Friday': 2012,\n",
      " 'Monday': 1736,\n",
      " 'Saturday': 3311,\n",
      " 'Sunday': 2975,\n",
      " 'Thursday': 1530,\n",
      " 'Tuesday': 1426,\n",
      " 'Wednesday': 1583}\n"
     ]
    }
   ],
   "source": [
    "data_files_summary = {'NYC': './data/NYC-2016-Summary.csv',\n",
    "              'Chicago': './data/Chicago-2016-Summary.csv',\n",
    "              'Washington': './data/Washington-2016-Summary.csv'}  \n",
    "city_ride_s={}\n",
    "city_ride_c={}\n",
    "for city,filename in data_files_summary.items():\n",
    "    ridership_pattern_s,ridership_pattern_c=ridership(filename)\n",
    "    city_ride_s[city]=ridership_pattern_s\n",
    "    city_ride_c[city]=ridership_pattern_c\n",
    "    \n",
    "pprint(ridership_pattern_s)\n",
    "pprint(ridership_pattern_c)\n"
   ]
  },
  {
   "cell_type": "code",
   "execution_count": 20,
   "metadata": {
    "collapsed": false
   },
   "outputs": [
    {
     "data": {
      "image/png": "iVBORw0KGgoAAAANSUhEUgAAAcYAAAGECAYAAACs8oBOAAAABHNCSVQICAgIfAhkiAAAAAlwSFlz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\n",
      "text/plain": [
       "<matplotlib.figure.Figure at 0x7efc1863ba58>"
      ]
     },
     "metadata": {},
     "output_type": "display_data"
    },
    {
     "data": {
      "image/png": "iVBORw0KGgoAAAANSUhEUgAAAcYAAAGECAYAAACs8oBOAAAABHNCSVQICAgIfAhkiAAAAAlwSFlz\nAAALEgAACxIB0t1+/AAAADl0RVh0U29mdHdhcmUAbWF0cGxvdGxpYiB2ZXJzaW9uIDIuMS4wLCBo\ndHRwOi8vbWF0cGxvdGxpYi5vcmcvpW3flQAAIABJREFUeJzt3Xm4HFWd//H3JwsQ2SEXZA9iUMAl\nMpFdjYBsLoCIAwoERIMO6DAoP3ElgIjMCKiAaBRkkcUAwxAYFMIuOwmEELYhQCAhgSQECMiiid/f\nH+c0Oel039u5uX375t7P63n66apTp6rOqa6ub9WpTRGBmZmZJf1aXQAzM7OexIHRzMys4MBoZmZW\ncGA0MzMrODCamZkVHBjNzMwKDozWMpK+L+n37QyfJmnXJsz3VklfrTNsY0mvS+rf1fNdHkhaV9Lt\nkl6TdFqT5nG+pJ80adqjJf2xGdPuDEk7Snoyr1P7NJB/iKSQNKA7yresmvlbtpIDYwtI+pKkCfnP\nMkvSnyXttIzT7FEbhEZExE8jomaAapWIeC4iVomIhd0531obREmHSrqjO8sBjALmAqtFxLeXdWIt\nqkNPciJwVl6n/qd6YLN2/mzZODB2M0nHAL8AfgqsC2wM/BrYu5Xl6kqN7O02c494ednbbrZOLodN\ngEejE0/+8HKvaRPgkVYXwpZSRPjTTR9gdeB1YP928pwP/KToHwHMKPq/CzwPvAY8AewC7AH8HfhH\nnv5DOe/6wDhgHjAV+FoxndHA5cAf87QeBjYHvgfMBqYDu1WV/VxgVp7/T4D+edihwJ3AGXleP6lR\nr9HAFXl+84Gv5rQ/FnkOBp4FXgJ+AEwDds3D+gHHAU/l4WOBtfKwIUAAhwPPAbcDK+V5vQS8AtwP\nrJvz3wqclMv8GnADMLhqWgOKvKcA9wGvAldX5lujjiOAGcD3SUdd04AvF8M/DTyY6z8dGF0Mey7P\n9/X82R54C1iY+1/J+VYEfp7zvwj8BhhUNf/vAi8AFxVp386/6yzgsHbWvX+Q1qXXgV3z/H4BzMyf\nXwAr1ptf1fS2qFOH84Gzgf/Ny/9eYLNivPcD40nr0hPAF9v5v2wK3JanMx44i8XXqctz2V7N68VW\nOf2jefkNKPLuB0zK3dsAE/Jv9SJwejtl+Brp/zWP9H9bP6c/BfwTeDPXf8Wq8S6qGv7/WLT+jcy/\n8VzgB8U4df8HNcp1G7Bf7t4pT3ev3L9rpa65/yvAY8DLwPXAJo38HhTbK2BV4BbgV4Bavb1dlk/L\nC9CXPqQAtqD8M9bI886KlvtHkAMj8D7SBrXyxxtS2aBQFWRy2m2ko9GVgGHAHGCXIv9bwO7AAOBC\n4BlSQBqY/+zPFNP6H+C3wMrAOqRAcUQedmiu1zfztAbVqNdo0kZ3n/znHlSWGdgybxw+TtoYn56n\nWQmMRwP3ABvm4b8FLi2WQ+Q6rJynfQRwDfAuoD/wL6TmQUjB7inSjsCg3P+zqmmVgfF54AN52ldW\nL+eq32pBLvuKwCeAvwHvK4Z/MNf/Q6QN7j615lss1zuq5vEL0sZ3LdKG6BrglKr5n5rnP6hIOzH/\nrnsBbwBrNrj+nZiX+zpAG3AXcFK9+dWYXq06nE/ayG5DWl8uBi7Lw1YmreOH5WFbk4LDVnXKe3ex\nvD9OCpBlYPxKXk6VAF8Gg0eBPYv+q4BvF9M9OHevAmxXZ/475/JtnedxJnB7MXwaeR2uM/5iw4v1\n4Hf59/sw8DawRUf/gxrTPhE4M3d/n7TOn1oM+2Xu3ocU2LfIy/yHwF2N/B6V9QVYm7RNWGKneHn8\ntLwAfekDfBl4oYM851M/ML6XtNe/KzCwarzRVRuEjUh76qsWaacA5xf5xxfDPksKTJWjwFXzH3QN\nUpPv2xQbPuBA4JbcfSjwXAf1Gl1uMKrLDPyYvHHM/SuTjlwqgfExclDP/euRAu2AYmPynmL4V0gb\n8Q/VKMutwA+L/n8D/pK7K9MqA+PPirxb5nL1rzHdEaRAsXKRNhb4UZ1l8gvgjFrzLZbrHUW/SIG2\nPLranrwDk+f/d2ClqjK9WTXd2dTf0J/P4uvfU+SjjNy/OzCt3vxqTG+xOhTz+H3RvxfweO7+V+Cv\nVfl/CxxfY9ob11jel1B/x2WNvIxXz/3fBS7O3WuRdhjWy/23AyeQWxLaqd+5wH8W/auQ1sshuX8a\nnQuMGxZp9wEHdPQ/qDHtXYDJufsvpFaae3L/bcDnc/efgcOL8frlZbFJR79H/i3PA6YAx7a3rJan\nj88xdq+XgMGdPRcTEVNJe4yjgdmSLpO0fp3s6wPzIuK1Iu1ZYIOi/8Wi+01gbiy66OTN/L0K6Q8y\nEJgl6RVJr5D+HOsU409voArt5Vm/HB4RfyMtr4pNgKuK+T9GCvzr1pn+RaQmocskzZT0n5IGFsNf\nKLrfINWzkXI/S1oWg+vkfTmXvcy/PoCkbSXdImmOpFeBr7cznVraSEfAE4vl8JecXjEnIt6qGu+l\niFhQ9HdU39L6uQ4V79Snnfk1ot7y3wTYtlK/XMcvA++uU7ZayxsASf0l/UzSU5Lmk4IQLFrmfwQ+\nK2kV4IukADArDzuc1KLwuKT7JX2mTj0WWz4R8Tppvd2gTv5Gtbd8OvofVNwNbC5pXVKL0YXARpIG\nk47Wby+m+ctimvNIO2Eb0Njv8WnS0e1vlrHOPYYDY/e6m9R82d5l238jbfwqFtsgRMQlEbETaYUN\nUjMWubs0E1hL0qpF2sakZsGlNZ10xDg4ItbIn9UiYquyaA1Mp708s0hHuQBIehepeaYsw57F/NeI\niJUioqzPO9OPiH9ExAkRsSWwA/AZ4JAGyljLRkX3xqQ99Ll18q4paeWq/DNz9yWkZtCNImJ10oZE\n1WUvVKfNJe2wbFUsg9UjYpV2xllWM0nrWkVZn0bmt7TlmQ7cVvU7rxIR36iRdxa1l3fFl0gXte1K\nOkc+JKcLIK87dwP7ks5vX/ROoSOejIgDSTt/pwJXVM2nYrHlk/OsTeP/s84sn47+B5U6vAFMBP4d\nmBIRfye1ohwDPBURc4tpHlE1zUERcReN/R6/I+2gXVdnGS13HBi7UUS8SmoyPFvSPpLeJWmgpD0l\n/WfONgnYS9Jakt5NOkIEQNL7JO0saUVSgH2TtLcI6ehviKR+eV7TSX+CUyStJOlDpL3giztR7lmk\nC1ROk7SapH6SNpP0ic4shzquAD4jaSdJK5DOgZTr52+AkyVtAiCpTVLdK3klfVLSB/P9iPNJwayz\nt2AcJGnLHKxPBK6I9m/nOEHSCpI+RgrIl+f0VUlH8W9J2oa04a6YQ7oQ4z1F2ovAhnl5EBH/JG2E\nzpC0Tq7nBpJ272S9GnEp8MO8vAeT1t+luS1osTo04FrSUc7B+b8xUNJHJW1RnTEiniVdIFNZ3juR\nTglUrEraoXuJtLP50xrzu5B00csHSecYAZB0kKS2vMxfycm1fvNLgMMkDcv/y58C90bEtAbr+yKL\n/+YdWar/AanJ9Kj8DenUQNlfmeb3JG2Vp7m6pP3zsEZ/j6NIF+ZcK2nQUtSnR3Jg7GYRcTppj+2H\npI3hdNJKVbnH6SLgIVKzzw3An4rRVwR+RjpyeIG0N/v9PKyy8X1J0gO5+0DSXvJM0p/++IgY38mi\nHwKsQLpg4WVSIFuvk9NaQkQ8AhxJ2tDMyvOYUWT5Jelo6wZJr5EuQNi2nUm+O5dxPqm56TaWboNe\nuoh0LuUF0oVM32on7wu57DNJOyFfj4jH87B/A07M5f8x6fwj8M7e/cnAnbnJajvgZtKl/i9Iquzd\nf5d0ocQ9uXnwRtJFWc3yE1LwmUy6cvmBnNaoWnWoKzf97wYcQFqGL7Do4p5avkRaD+YBx5MCXcWF\npGbO50nr7T01xr+K3DxZ1SS7B/CIpNdJ694BtZqMI+Im4Eeki7JmAZvlsjfqFNKOxyuSvtNA/qX9\nH9xG2kG4vU4/EXEVaRlfltepKcCeeVhDv0dEBOke2OnA1ZJWaqAuPZZSfcysFkm3ki7mqPuEniLv\niJx3w2aXy7qOpKdITYk3tros1jP4iNHM+ixJ+5HO893c6rJYz+EnVZhZn5RbA7Yk3a/4zxYXx3qQ\npjWl5jbm20lt0QNIFywcL+l80o3Pr+ash0bEJEkitZ9XbkA+NCIeyNMaSTonB+keqwuaUmgzM+vz\nmnnE+Dawc0S8nu8fu0PSn/OwYyPiiqr8ewJD82db4BzS/TNrkU6qDyc1eUyUNC4iXm5i2c3MrI9q\n2jnGSF7PvQPzp73D072BC/N49wBrSFqP9KSN8RExLwfD8aQrxszMzLpcU88x5nvIJpIeZXZ2RNwr\n6Ruk+3B+DNwEHBcRb5OeslA+YWRGTquXXtfgwYNjyJAhXVYPMzNb/k2cOHFuRLR1lK+pgTHfBD1M\n0hqkxxh9gPT2hhdI98SNId2XdSKLngCy2CTaSV+MpFGk+2jYeOONmTBhQpfUwczMegdJz3acq5tu\n14iIV0hPXNgjImbl5tK3gT+QntkH6UiwfPTWhqQbSuulV89jTEQMj4jhbW0d7hCYmZnV1LTAmB9V\ntEbuHkR6XuHj+bwh+SrUfUhPWYD0NIdDlGwHvJofRXY9sJukNSWtSXoKw/XNKreZmfVtzWxKXQ+4\nIJ9n7AeMjYhrJd0sqY3URDqJ9IYBgOtIt2pMJd2ucRhARMyTdBLpRbMAJ0bEvCaW28zM+rBe+Ui4\n4cOHh88xmplZSdLEiBjeUT4/Es7MzKzgwGhmZlZwYDQzMys4MJqZmRUcGM3MzAoOjGZmZgUHRjMz\ns4IDo5mZWcGB0czMrODAaGZmVnBgNDMzKzgwmpmZFZr6omIzM2uMTqj1TvaOxfG970UQreYjRjMz\ns4IDo5mZWcGB0czMrODAaGZmVnBgNDMzKzgwmpmZFRwYzczMCg6MZmZmBQdGMzOzggOjmZlZwYHR\nzMys4MBoZmZWcGA0MzMrODCamZkVHBjNzMwKDoxmZmYFB0YzM7OCA6OZmVnBgdHMzKzgwGhmZlZw\nYDQzMys4MJqZmRUcGM3MzAoOjGZmZgUHRjMzs0LTAqOklSTdJ+khSY9IOiGnbyrpXklPSvqTpBVy\n+oq5f2oePqSY1vdy+hOSdm9Wmc3MzJp5xPg2sHNEfBgYBuwhaTvgVOCMiBgKvAwcnvMfDrwcEe8F\nzsj5kLQlcACwFbAH8GtJ/ZtYbjMz68OaFhgjeT33DsyfAHYGrsjpFwD75O69cz95+C6SlNMvi4i3\nI+IZYCqwTbPKbWZmfVtTzzFK6i9pEjAbGA88BbwSEQtylhnABrl7A2A6QB7+KrB2mV5jnHJeoyRN\nkDRhzpw5zaiOmZn1AU0NjBGxMCKGARuSjvK2qJUtf6vOsHrp1fMaExHDI2J4W1tbZ4tsZmZ9XLdc\nlRoRrwC3AtsBa0gakAdtCMzM3TOAjQDy8NWBeWV6jXHMzMy61ICOs3SOpDbgHxHxiqRBwK6kC2pu\nAb4AXAaMBK7Oo4zL/Xfn4TdHREgaB1wi6XRgfWAocF+zym1mPY9OqNVw1Jg4fokGJrN2NS0wAusB\nF+QrSPsBYyPiWkmPApdJ+gnwIHBuzn8ucJGkqaQjxQMAIuIRSWOBR4EFwJERsbCJ5TYzsz6saYEx\nIiYDH6mR/jQ1riqNiLeA/etM62Tg5K4uo5mZWTU/+cbMzKzgwGhmZlZwYDQzMys4MJqZmRUcGM3M\nzAoOjGZmZgUHRjMzs4IDo5mZWcGB0czMrODAaGZmVnBgNDMzKzgwmpmZFRwYzczMCg6MZmZmBQdG\nMzOzggOjmZlZwYHRzMys4MBoZmZWcGA0MzMrODCamZkVHBjNzMwKDoxmZmYFB0YzM7OCA6OZmVnB\ngdHMzKzgwGhmZlZwYDQzMys4MJqZmRUcGM3MzAoOjGZmZgUHRjMzs4IDo5mZWcGB0czMrODAaGZm\nVnBgNDMzKzgwmpmZFRwYzczMCk0LjJI2knSLpMckPSLp33P6aEnPS5qUP3sV43xP0lRJT0javUjf\nI6dNlXRcs8psZmY2oInTXgB8OyIekLQqMFHS+DzsjIj4eZlZ0pbAAcBWwPrAjZI2z4PPBj4FzADu\nlzQuIh5tYtnNzKyPalpgjIhZwKzc/Zqkx4AN2hllb+CyiHgbeEbSVGCbPGxqRDwNIOmynNeB0czM\nuly3nGOUNAT4CHBvTjpK0mRJ50laM6dtAEwvRpuR0+qlm5mZdbmmB0ZJqwBXAkdHxHzgHGAzYBjp\niPK0StYao0c76dXzGSVpgqQJc+bM6ZKym5lZ39PUwChpICkoXhwR/w0QES9GxMKI+CfwOxY1l84A\nNipG3xCY2U76YiJiTEQMj4jhbW1tXV8ZMzPrE5p5VaqAc4HHIuL0In29Itu+wJTcPQ44QNKKkjYF\nhgL3AfcDQyVtKmkF0gU645pVbjMz69uaeVXqjsDBwMOSJuW07wMHShpGag6dBhwBEBGPSBpLuqhm\nAXBkRCwEkHQUcD3QHzgvIh5pYrnNzKwPa+ZVqXdQ+/zgde2MczJwco3069obz8zMrKv4yTdmZmYF\nB0YzM7OCA6OZmVnBgdHMzKzgwGhmZlZwYDQzMys4MJqZmRUcGM3MzAoOjGZmZgUHRjMzs4IDo5mZ\nWcGB0czMrODAaGZmVnBgNDMzKzgwmpmZFRwYzczMCg6MZmZmBQdGMzOzggOjmZlZwYHRzMys4MBo\nZmZWcGA0MzMrODCamZkVHBjNzMwKDoxmZmaFDgOjpB0bSTMzM+sNGjliPLPBNDMzs+XegHoDJG0P\n7AC0STqmGLQa0L/ZBTMzM2uFuoERWAFYJedZtUifD3yhmYUyMzNrlbqBMSJuA26TdH5EPNuNZTIz\nM2uZ9o4YK1aUNAYYUuaPiJ2bVSgzM7NWaSQwXg78Bvg9sLC5xTEzM2utRgLjgog4p+klMTMz6wEa\nuV3jGkn/Jmk9SWtVPk0vmZmZWQs0csQ4Mn8fW6QF8J6uL46ZmVlrdRgYI2LT7iiImZlZT9BhYJR0\nSK30iLiw64tjZmbWWo00pX606F4J2AV4AHBgNDOzXqfDi28i4pvF52vAR0hPxWmXpI0k3SLpMUmP\nSPr3nL6WpPGSnszfa+Z0SfqVpKmSJkvaupjWyJz/SUkj683TzMxsWXXmtVNvAEMbyLcA+HZEbAFs\nBxwpaUvgOOCmiBgK3JT7AfbM0x0KjALOgRRIgeOBbYFtgOMrwdTMzKyrNXKO8RrSVaiQHh6+BTC2\no/EiYhYwK3e/JukxYANgb2BEznYBcCvw3Zx+YUQEcI+kNSStl/OOj4h5uTzjgT2ASxuqoZmZ9Qg6\nQZ0aL46PjjN1oUbOMf686F4APBsRM5ZmJpKGkJpg7wXWzUGTiJglaZ2cbQNgejHajJxWL716HqNI\nR5psvPHGS1M8MzOzdzRyjvE24HHSGzbWBP6+NDOQtApwJXB0RMxvL2ut2beTXl3OMRExPCKGt7W1\nLU0RzczM3tFhYJT0ReA+YH/gi8C9khp67ZSkgaSgeHFE/HdOfjE3kZK/Z+f0GcBGxegbAjPbSTcz\nM+tyjVx88wPgoxExMiIOIV0A86OORpIk4FzgsYg4vRg0jkVP0xkJXF2kH5KvTt0OeDU3uV4P7CZp\nzXzRzW45zczMrMs1co6xX0TMLvpforGAuiNwMPCwpEk57fvAz4Cxkg4HniMdiQJcB+wFTCVd+XoY\nQETMk3QScH/Od2LlQhwzM7Ou1khg/Iuk61l0Fei/An/uaKSIuIPa5wchPSSgOn8AR9aZ1nnAeQ2U\n1czMbJk08qzUYyV9HtiJFOjGRMRVTS+ZmZlZCzRyH+OmwHWVi2ckDZI0JCKmNbtwZmZm3a2Rc4WX\nA/8s+hfmNDMzs16nkcA4ICLeuXcxd3f4rFQzM7PlUSOBcY6kz1V6JO0NzG1ekczMzFqnkatSvw5c\nLOms3D+DdBuGmZlZr9PIValPAdvlR7spIl5rfrHMzMxao5EjRgAi4vVmFsTMzKwn6Mz7GM3MzHqt\ndgOjpH6SduiuwpiZmbVau4ExIv4JnNZNZTEzM2u5RppSb5C0X35bhpmZWa/WyMU3xwArAwslvUl6\nXmpExGpNLZmZmVkLNHK7xqrdURAzM7OeoMOm1Pzi4IMk/Sj3byRpm+YXzczMrPs1co7x18D2wJdy\n/+vA2U0rkZmZWQs1co5x24jYWtKDABHxsiQ/RNzMzHqlRo4Y/yGpPxAAktpY/DVUZmZmvUYjgfFX\nwFXAOpJOBu4AftrUUpmZmbVII1elXixpIrAL6VaNfSLisaaXzMwaphM6d5txHB9dXBKz5V+jDxF/\nEfhrzj9I0tYR8UDzimVmZtYaHQZGSScBhwJPkc8z5u+dm1csMzOz1mjkiPGLwGYR8fdmF8bMzKzV\nGrn4ZgqwRrMLYmZm1hM0csR4CvCgpCnA25XEiPhc00plZmbWIo0ExguAU4GH8f2LZmbWyzUSGOdG\nxK+aXhIzM7MeoJHAOFHSKcA4Fm9K9e0aZmbW6zQSGD+Sv7cr0ny7hpmZ9UqNPPnmk91REDMzs56g\nkfcxri7pdEkT8uc0Sat3R+HMzMy6WyP3MZ4HvEa60f+LwHzgD80slJmZWas0co5xs4jYr+g/QdKk\nZhXIzMyslRoJjG9K2iki7gCQtCPwZnOLZd3Fb2UwM1tcI4Hx68CFxXnFl4GRzSuSmZlZ6zQSGOdH\nxIclrQYQEfMlbdrkcpmZmbVEIxffXAkpIEbE/Jx2RfOKZGZm1jp1A6Ok90vaD1hd0ueLz6HASh1N\nWNJ5kmbnh49X0kZLel7SpPzZqxj2PUlTJT0hafcifY+cNlXScZ2uqZmZWQPaa0p9H/AZ0iunPluk\nvwZ8rYFpnw+cBVxYlX5GRPy8TJC0JXAAsBWwPnCjpM3z4LOBTwEzgPsljYuIRxuY/zLzhSlmZn1P\n3cAYEVcDV0vaPiLuXtoJR8TtkoY0mH1v4LKIeBt4RtJUYJs8bGpEPA0g6bKct1sCo5mZ9T2NnGPc\nV9JqkgZKuknSXEkHLcM8j5I0OTe1rpnTNgCmF3lm5LR66WZmZk3RSGDcLV908xlSYNocOLaT8zsH\n2AwYBswCTsvptdoso530JUgaVXls3Zw5czpZPDMz6+saCYwD8/dewKURMa+zM4uIFyNiYUT8E/gd\ni5pLZwAbFVk3BGa2k15r2mMiYnhEDG9ra+tsEc3MrI9rJDBeI+lxYDhwk6Q24K3OzEzSekXvvkDl\nitVxwAGSVsz3SA4F7gPuB4ZK2lTSCqQLdMZ1Zt5mZmaNaOS1U8dJOpV0o/9CSX8jXQDTLkmXAiOA\nwZJmAMcDIyQNIzWHTgOOyPN4RNJY0kU1C4AjI2Jhns5RwPVAf+C8iHhkqWtpZmbWoA4Do6RDiu5y\nUPVtGIuJiANrJJ/bTv6TgZNrpF8HXNdROc3MzLpCI4+E+2jRvRKwC/AAHQRGMzOz5VEjTanfLPvz\nw8QvalqJzLqYH9RgZkujkYtvqr1BujjGzMys12nkHOM1LLp3sB+wJTC2mYUyMzNrlUbOMZbPNV0A\nPBsRM5pUHjMzs5aqGxglvRdYNyJuq0r/mKQVI+KpppfOzMysm7V3jvEXpDdpVHszDzMzM+t12guM\nQyJicnViREwAhjStRGZmZi3UXmBs72XEg7q6IGZmZj1Be4HxfklLvJBY0uHAxOYVyczMrHXauyr1\naOAqSV9mUSAcDqxAegC4mZlZr1M3MEbEi8AOkj4JfCAn/29E3NwtJTMzM2uBRh4JdwtwSzeUxczM\nrOU680g4MzOzXsuB0czMrODAaGZmVnBgNDMzKzgwmpmZFRwYzczMCg6MZmZmBQdGMzOzggOjmZlZ\nwYHRzMys4MBoZmZWcGA0MzMrODCamZkVHBjNzMwKDoxmZmYFB0YzM7OCA6OZmVnBgdHMzKzgwGhm\nZlZwYDQzMys4MJqZmRUcGM3MzAoOjGZmZgUHRjMzs0LTAqOk8yTNljSlSFtL0nhJT+bvNXO6JP1K\n0lRJkyVtXYwzMud/UtLIZpXXzMwMmnvEeD6wR1XaccBNETEUuCn3A+wJDM2fUcA5kAIpcDywLbAN\ncHwlmJqZmTVD0wJjRNwOzKtK3hu4IHdfAOxTpF8YyT3AGpLWA3YHxkfEvIh4GRjPksHWzMysy3T3\nOcZ1I2IWQP5eJ6dvAEwv8s3IafXSzczMmqKnXHyjGmnRTvqSE5BGSZogacKcOXO6tHBmZtZ3dHdg\nfDE3kZK/Z+f0GcBGRb4NgZntpC8hIsZExPCIGN7W1tblBTczs76huwPjOKByZelI4Ooi/ZB8dep2\nwKu5qfV6YDdJa+aLbnbLaWZmZk0xoFkTlnQpMAIYLGkG6erSnwFjJR0OPAfsn7NfB+wFTAXeAA4D\niIh5kk4C7s/5ToyI6gt6zMzMukzTAmNEHFhn0C418gZwZJ3pnAec14VFMzMzq6unXHxjZmbWIzgw\nmpmZFRwYzczMCg6MZmZmBQdGMzOzggOjmZlZwYHRzMys4MBoZmZWcGA0MzMrODCamZkVHBjNzMwK\nDoxmZmYFB0YzM7OCA6OZmVnBgdHMzKzgwGhmZlZwYDQzMys4MJqZmRUcGM3MzAoOjGZmZgUHRjMz\ns4IDo5mZWcGB0czMrODAaGZmVnBgNDMzKzgwmpmZFRwYzczMCg6MZmZmBQdGMzOzggOjmZlZwYHR\nzMys4MBoZmZWcGA0MzMrODCamZkVHBjNzMwKDoxmZmYFB0YzM7OCA6OZmVmhJYFR0jRJD0uaJGlC\nTltL0nhJT+bvNXO6JP1K0lRJkyVt3Yoym5lZ39DKI8ZPRsSwiBie+48DboqIocBNuR9gT2Bo/owC\nzun2kpqZWZ/Rk5pS9wYuyN0XAPsU6RdGcg+whqT1WlFAMzPr/VoVGAO4QdJESaNy2roRMQsgf6+T\n0zcAphfjzshpi5E0StIESRPmzJnTxKKbmVlvNqBF890xImZKWgcYL+nxdvKqRloskRAxBhgDMHz4\n8CWGm5mZNaIlR4wRMTN/zwauArYBXqw0kebv2Tn7DGCjYvQNgZndV1ozM+tLuj0wSlpZ0qqVbmA3\nYAowDhiZs40Ers7d44BD8tWp2wGvVppczczMulormlLXBa6SVJn/JRHxF0n3A2MlHQ48B+yf818H\n7AVMBd4ADuv+IpuZWV/R7YFGETwMAAAOMUlEQVQxIp4GPlwj/SVglxrpARzZDUUzMzPrUbdrmJmZ\ntZwDo5mZWcGB0czMrODAaGZmVnBgNDMzKzgwmpmZFRwYzczMCg6MZmZmBQdGMzOzggOjmZlZwYHR\nzMys4MBoZmZWcGA0MzMrODCamZkVHBjNzMwKDoxmZmYFB0YzM7OCA6OZmVnBgdHMzKzgwGhmZlZw\nYDQzMys4MJqZmRUcGM3MzAoOjGZmZgUHRjMzs4IDo5mZWcGB0czMrODAaGZmVnBgNDMzKzgwmpmZ\nFRwYzczMCg6MZmZmBQdGMzOzggOjmZlZwYHRzMys4MBoZmZWcGA0MzMrLDeBUdIekp6QNFXSca0u\nj5mZ9U7LRWCU1B84G9gT2BI4UNKWrS2VmZn1RstFYAS2AaZGxNMR8XfgMmDvFpfJzMx6oeUlMG4A\nTC/6Z+Q0MzOzLqWIaHUZOiRpf2D3iPhq7j8Y2CYivlnkGQWMyr3vA55ocrEGA3ObPI9Wcx17B9dx\n+dfb6wfdU8dNIqKto0wDmlyIrjID2Kjo3xCYWWaIiDHAmO4qkKQJETG8u+bXCq5j7+A6Lv96e/2g\nZ9VxeWlKvR8YKmlTSSsABwDjWlwmMzPrhZaLI8aIWCDpKOB6oD9wXkQ80uJimZlZL7RcBEaAiLgO\nuK7V5Sh0W7NtC7mOvYPruPzr7fWDHlTH5eLiGzMzs+6yvJxjNDMz6xa9OjBKWlvSpPx5QdLzufsV\nSY92w/wPlXRWF03rDElHF/3XS/p90X+apGManNZoSd/pinLVmX6X1btquvV+z0n5oqyunt8dkoZ1\n9XQbnHdIuqjoHyBpjqRru2j6TV0HloakH0h6RNLk/Ftu2wXTbFn9lqY++b+yfhfM81ZJPeKKTkkL\ni//lJElDauRZX9IVdcZveV2Wm3OMnRERLwHDIP1RgNcj4uf5h+r0BkbSgIhY0BVlXAp3AfsDv5DU\nj3TPz2rF8B2Ao2uN2FvU+z1bWqjm+RvwAUmDIuJN4FPA8y0uU5eTtD3wGWDriHhb0mCgy3dyuksn\n6nMoMIWq2886mEcrtj9L482IqLtDmcs/E/hCN5ZpqfTqI8YO9Jf0u7xnd4OkQbD43oqkwZKm5e5D\nJV0u6RrgBknrSbo97xFNkfSxnO8wSf8n6TZgx8rMJH1W0r2SHpR0o6R1JfWT9KSktpynX35I+uAa\n5b2TFPwAtiL9mV6TtKakFYEtgAclHSvp/ry3ekIx/x8oPYT9RtIDECrpt0o6VdJ9udyVevSX9F/F\ntI7I6d1d7w5Jeq+kSUX/cZJ+mLuHKh1dT8zl3jynH5DL/5CkW3Lau/JvPFnSZcBKxTTHSJqQ15cf\n57TdJV1e5NlT0tjO1KGOPwOfzt0HApcW81pL0v/kst4j6UM5fbSk8/Lv+rSkbxXj1FsHvpZ/54ck\nXZmXw6qSnpE0MOdZTdK0Sn8XWg+YGxFvA0TE3IiYmec1OM97uKRbl5P61avPj3MZpuR1SZK+AAwH\nLs7/p0Ed1HuMpBuAC3Pey/Lv/ydgUFHfc4p19YSctoukq4o8n5L038tY14Zpye3nEElT8rCeV5eI\n6BMfYDTwndw9BFgADMv9Y4GDcvetwPDcPRiYlrsPJT1oYK3c/23gB7m7P7Aq6U/xHNBG2ku8Ezgr\n51mTRRc7fRU4LXcfDxydu3cDrmynDtOAjYEjgK8DJwF7kQLR7Xn8MYBIOz3XAh8H/gV4GHgX6Shz\narEsbi3KshdwY+4eBfwwd68ITAA2bUW9G/g93wtMKoYdV5T9FmCz3L0jcEPufgxYN3evkb//HzAm\nd38EWFisI5XffQDwV9LD7PuRnrC0drEe7dlF6+vrwIeAK0gBehIwArg2Dz8TOD5371ypf14ud+Xf\nbDDwEjCwg3Vg7WK+PwG+mbv/AOxTrA+nNeF/uUqu2/8BvwY+Uazrg3P3cODW5aF+7dRnrSLPRcBn\nq7c3DdR7IjAo9x9Dum2NvJ4sYNF2q7Ku9s/T/xBpm/A40JaHXVIpQxN+04V5GUwCrspph7L49nMI\nMKWn1qUvHzE+ExGVo4yJpB+qI+MjYl7uvh84TKlJ74MR8RqwLWlFnhPpYed/KsbdELhe0sPAsaSj\nPoDzgENy91dIf9Z6KkeNOwB350+l/y5SgNkNeBB4AHg/MBT4GGkFfSMi5rPkwxEqe1vlctgNOCQf\nid0LrJ2n1Yp6d4qkNYDtgCtzPc4GKudz7iTteX+VRS0nHwf+CBARDwLlvbIHSnqAtFy3ALaMiH+S\n/pRfkrQWaeN8Q1eVPyImk36PA1nyVqWdSBtYIuJmYG1Jq+dh/xsRb0fEXGA2sC7trwMfkPTX/Bt9\nmUW/0e+Bw3L3YTThN4qI10nLbRQwB/iTpEM7GK3H1q+d+nxSqeXkYdKOzFb1p1LXuEjN6rD4ujoZ\nmFzk+2JeVx/M89kyUgS5CDgo/y+2J7VINMObETEsf/Yt0svtZ6nH1aVXn2PswNtF90IWHb4vYNGG\nciUW97dKR0TcLunjpKauiyT9FzAfqHf/y5nA6RExTtII0h4gETFd0ouSdiYFmC+3U+a7SEHwg6Sm\n1OmkI7j5pEAzAjglIn5bjqR00U579+VUlsVCFq0TIu1ZX1+duQX17kj5m0H63RbkOsyN2uc7vpbn\n+xngoUpTZK16SBoK/Dvp+byvSPoji9aN84Arc/efImLhMtSjlnHAz0m/7dplsWrkrZS9et0eUDW8\n2vmkI6eH8kZ8BEBE3JmbvD4B9I+IKZ0of4fyMrsVuDUHjpG0/z/s0fWrUZ8jSEc6w/N6P5ol61TR\n0PanMqvqkSVtCnwH+GhEvCzp/GI6fwCuAd4CLo/uP09ZXf5Sj6pLXz5irGcaaY8P2jk5LGkTYHZE\n/A44F9iadGQ1QunqyYGki2UqVmfRxRMjqyb3e9Ie09gONqx3kjbk8yJiYd77quwx3U16MtBXJK2S\ny7iBpHVIzaz75rb8VYHPtrcAsuuBbxTnYDaXtHKL6t2RF4D1lc63rkQ+LxcRLwOzJO2b69BP0ofz\nOO+JiHuAHwEvk97Wcjs5QOd8lb361YDXgPmS1gN2r8w4IqaTHnx8HGkD3NXOA06MiIer0suyjiDt\nAMxvZzrtrQOrkpbTQJbcQbmQdG6zy48WASS9L+94VAwDnmXx/+F+DUyqR9SvTn0qLzSYm/+b5Xbl\ntVy+imk0Vu/y9/8AKfBCWlf/BrwqaV3SO2wBiHTBy0zghzRnXe2sHleXvnzEWM/PgbFKb/C4uZ18\nI4BjJf2DdD7okIiYlfcG7wZmkZrd+uf8o4HLJT0P3EM6X1cxjvTH7OjP+TDpvMolVWmr5GalGyRt\nAdwtiVyugyLigXxSexJpo/PXDuYDKWgNAR5QmtgcYJ8W1btdEfGWpJ+SmnmfBspbcQ4AzsnlW4EU\niB8Czsh7pCKdd5wi6WngAkmTcx0m5Gk8kKc5JU//zqoiXAKsFhH/tyz1qFO3GcAvawwaDfwhl/UN\nltzpqJ5Oe+vAj0g7N8+S1qdyQ30x6bzcpTTHKsCZuUlsAenc4ChSc/W5kr6fy9auHlS/evV5Jc97\nGmk9rTgf+I2kN0k7uCfQWL3PYdHvPwm4DyAfFVdOA9RaVy8mnZtr+u1qS6HH1cVPvukBlK6CPSMi\nPtbqsnSn3lJvSb8B7o6IC1pdlq6mdOXk3hFxcKvL0gy9vX7VlO4vfjAizm11WZZVM+viI8YWk3Qc\n8A2W7Rzbcqe31Dtf1PMy8K2O8i5vJJ1Jar7aq9VlaYbeXr9qkiaSmia/3eqyLKtm18VHjGZmZgVf\nfGNmZlZwYDQzMys4MJqZmRUcGM3MzAoOjGZNpkWv4XlE6UHWxyi9IaU75n2p0sOZ/6Ob5teUV46Z\ndSffrmHWfO+8hic/iegS0hOBjm/mTCW9G9ghIjZp5nzMehsfMZp1o4iYTXoSylFKhig94PqB/NkB\nQNJFkvaujCfpYkmfqzVNSStJ+oOkh5Ve7/XJPOgGYJ18tLrEQxQkrZPvB0PSh5Vejrxx7n9K6fVM\nbUqvaro/f3bMw1dWev3T/Xmee9eY/qcl3a1Ovk7MrFV8xGjWzSLi6dyUug7p7RCfyo+1G0p6NNlw\n0iP5/gO4WumtGTtQ/7FvR+bpflDS+0mPBtwc+BzpNVU1XxobEbNzUF2N9HaKCcDHJN1Beh7uG5J+\nT3o60R05aF5PelzbD4CbI+Ir+fFn9ym9BxEApefTHgPslZ9Za7bccGA0a43K2zEGAmdJGkZ6U8Tm\nABFxm6Szc9Pr50nvq6z3BoGdSG8xISIel/Rsnk57DxWvuIv0nsqPAz8F9shlqzxrdFdgy/zsXYDV\n8kO6dwM+J+k7OX0l0rtCAT5JCu67dfBgc7MeyYHRrJtJeg8pCM4mnWd8Efgw6dTGW0XWi0iPzDuA\n9M7KupNchuL8lXS0uAlwNfBd0iuArs3D+wHbF+8BrNRBwH4R8URV+rakBz6/hxScJ2C2nPE5RrNu\nJKkN+A1wVn7h6urArPzS44NZ9FYSSG9eOBogIh6hvvK1PZuTjtyeaCd/9bgHAU/mMswjPTu08iaD\nG4CjivJXmmWvB76ZAySSPlJM81nSUe6FkjrzQl6zlnJgNGu+QZXbNYAbScHmhDzs18BISfeQjrDK\nl2G/CDxGx6/l+jXQX+mluH8CDo2ItzsYpzKPabnz9vx9B/BKcV7wW8DwfMvHo8DXc/pJpGbgyZKm\n5P5yuk+QgvXlkjZrpCxmPYUfIm7WQ0l6F+kdfltHxKutLo9ZX+EjRrMeSNKuwOPAmQ6KZt3LR4xm\nywlJuwOnViU/ExH7NjDu2aSrT0u/jIiOmmnN+hwHRjMzs4KbUs3MzAoOjGZmZgUHRjMzs4IDo5mZ\nWcGB0czMrPD/AY+31yds2NYvAAAAAElFTkSuQmCC\n",
      "text/plain": [
       "<matplotlib.figure.Figure at 0x7efc182d0518>"
      ]
     },
     "metadata": {},
     "output_type": "display_data"
    }
   ],
   "source": [
    "import numpy as np\n",
    "data_s = ridership_pattern_s\n",
    "X = np.arange(len(data_s))\n",
    "plt.figure(figsize=(7,6))\n",
    "plt.bar(X, data_s.values(), align='center',width=0.25)\n",
    "plt.xticks(X, data_s.keys())\n",
    "ymax = max(data_s.values()) + 200  # added 200 to get the gap at the top along y axis\n",
    "plt.ylim(0, ymax)\n",
    "plt.xlabel('Day_of_week')\n",
    "plt.ylabel('Subscriber count')\n",
    "plt.title('Subscriber ridership pattern for the days of the week')\n",
    "#plt.show()\n",
    "\n",
    "data_c = ridership_pattern_c\n",
    "X = np.arange(len(data_c))\n",
    "plt.figure(figsize=(7,6))\n",
    "plt.bar(X, data_c.values(), align='center',width=0.25,color='green')\n",
    "plt.xticks(X,data_c.keys())\n",
    "ymax = max(data_c.values()) +200\n",
    "plt.ylim(0, ymax)\n",
    "plt.xlabel('Day_of_week')\n",
    "plt.ylabel('Customer count')\n",
    "plt.title('Customer ridership pattern for the days of the week')\n",
    "plt.show()\n"
   ]
  },
  {
   "cell_type": "code",
   "execution_count": 21,
   "metadata": {
    "collapsed": false
   },
   "outputs": [
    {
     "name": "stderr",
     "output_type": "stream",
     "text": [
      "/opt/conda/lib/python3.6/site-packages/matplotlib/cbook/deprecation.py:106: MatplotlibDeprecationWarning: Adding an axes using the same arguments as a previous axes currently reuses the earlier instance.  In a future version, a new instance will always be created and returned.  Meanwhile, this warning can be suppressed, and the future behavior ensured, by passing a unique label to each axes instance.\n",
      "  warnings.warn(message, mplDeprecation, stacklevel=1)\n"
     ]
    },
    {
     "data": {
      "image/png": "iVBORw0KGgoAAAANSUhEUgAAAcYAAAHwCAYAAAA8Qc+ZAAAABHNCSVQICAgIfAhkiAAAAAlwSFlz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\n",
      "text/plain": [
       "<matplotlib.figure.Figure at 0x7efc18209630>"
      ]
     },
     "metadata": {},
     "output_type": "display_data"
    }
   ],
   "source": [
    "#plotting both the subscriber and customer ridership behavior for various days of  week.Shows  customer ridership is \n",
    "#highest on saturday and that of subscriber is on thursday.\n",
    "\n",
    "data_s = ridership_pattern_s\n",
    "x= np.arange(len(data_s))\n",
    "y=list(data_s.values())\n",
    "z=list(data_c.values())\n",
    "\n",
    "plt.figure(figsize=(7,8))\n",
    "plt.xticks(x, data_s.keys())\n",
    "plt.xlabel('Day of week')\n",
    "plt.ylabel('Ridership count')\n",
    "plt.title('Ridership pattern - Subscriber vs Customer')\n",
    "#create subplots\n",
    "ax= plt.subplot(111)\n",
    "set1=ax.bar(x-0.3, y,width=0.3,color='b',align='center')\n",
    "set2=ax.bar(x, z,width=0.3,color='g',align='center')\n",
    "plt.legend((set1[0],set2[0]),('subscriber','customer'))\n",
    "\n",
    "plt.show()"
   ]
  },
  {
   "cell_type": "code",
   "execution_count": 22,
   "metadata": {
    "collapsed": true
   },
   "outputs": [],
   "source": [
    "#Explore the data set for hourly usage by subscribers and customers for NYC.\n",
    "\n",
    "def peak_usage(filename):\n",
    "    \"\"\"\n",
    "    This function  returns the hourly usage pattern for subscribers and customers for NYC.\n",
    "    \"\"\"\n",
    "    with open(filename, 'r') as f_in:\n",
    "        # set up csv reader object\n",
    "        reader = csv.DictReader(f_in)\n",
    "        \n",
    "        # list object initialised\n",
    "        peak_pattern_s={}\n",
    "        peak_pattern_c={}\n",
    "              \n",
    "        # compute the city hourly ride count \n",
    "        for row in reader:\n",
    "            if row['user_type']=='Subscriber':\n",
    "                peak_pattern_s[row['hour']]=peak_pattern_s.get(row['hour'],0)+1\n",
    "            if row['user_type']=='Customer':\n",
    "                peak_pattern_c[row['hour']]=peak_pattern_c.get(row['hour'],0)+1                \n",
    "        return peak_pattern_s,peak_pattern_c"
   ]
  },
  {
   "cell_type": "code",
   "execution_count": 23,
   "metadata": {
    "collapsed": false
   },
   "outputs": [
    {
     "name": "stdout",
     "output_type": "stream",
     "text": [
      "{'0': 275, '1': 188, '3': 60, '4': 43, '9': 966, '11': 2359, '12': 2644, '13': 2864, '14': 2985, '15': 3096, '16': 3009, '17': 2656, '18': 2203, '19': 1479, '21': 704, '22': 561, '23': 414, '8': 597, '10': 1590, '20': 1022, '7': 256, '6': 93, '2': 82, '5': 39}\n"
     ]
    }
   ],
   "source": [
    "data_files_summary = {'NYC': './data/NYC-2016-Summary.csv'}  \n",
    "\n",
    "for city,filename in data_files_summary.items():\n",
    "    peak_pattern_s,peak_pattern_c=peak_usage(filename)\n",
    "\n",
    "print(peak_pattern_c)\n",
    "    \n"
   ]
  },
  {
   "cell_type": "code",
   "execution_count": 30,
   "metadata": {
    "collapsed": false
   },
   "outputs": [
    {
     "name": "stderr",
     "output_type": "stream",
     "text": [
      "/opt/conda/lib/python3.6/site-packages/matplotlib/cbook/deprecation.py:106: MatplotlibDeprecationWarning: Adding an axes using the same arguments as a previous axes currently reuses the earlier instance.  In a future version, a new instance will always be created and returned.  Meanwhile, this warning can be suppressed, and the future behavior ensured, by passing a unique label to each axes instance.\n",
      "  warnings.warn(message, mplDeprecation, stacklevel=1)\n"
     ]
    },
    {
     "data": {
      "image/png": "iVBORw0KGgoAAAANSUhEUgAAAc0AAAHwCAYAAADEoTRuAAAABHNCSVQICAgIfAhkiAAAAAlwSFlz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\nAAAASUVORK5CYII=\n",
      "text/plain": [
       "<matplotlib.figure.Figure at 0x7efc18191e80>"
      ]
     },
     "metadata": {},
     "output_type": "display_data"
    }
   ],
   "source": [
    "pc = peak_pattern_c\n",
    "x= np.arange(len(pc))\n",
    "y=list(peak_pattern_c.values())\n",
    "z=list(peak_pattern_s.values())\n",
    "#sort the x axis in ascending order\n",
    "x,y=zip(*sorted(zip(*(x,y))))\n",
    "x,z=zip(*sorted(zip(*(x,z))))\n",
    "\n",
    "plt.figure(figsize=(7,8))\n",
    "plt.xticks(x, x)\n",
    "plt.xlabel('Time (hr)')\n",
    "plt.ylabel('Peak pattern')\n",
    "plt.title('Peak usage - Subscriber vs Customer')\n",
    "#create subplots\n",
    "ax= plt.subplot(111)\n",
    "set1=ax.plot(x,y,color='b')\n",
    "set2=ax.plot(x,z,color='g')\n",
    "plt.legend((set1[0],set2[0]),('customer','subscriber'))\n",
    "\n",
    "plt.show()\n"
   ]
  },
  {
   "cell_type": "markdown",
   "metadata": {},
   "source": [
    "<a id='limitations'></a>\n",
    "##  Limitations\n",
    "\n",
    "This is a snapshot of the bike share analysis : from generating questions, wrangling the data, and to exploring the data. \n",
    "\n",
    "Limitations at this  point in analysis , we might want to draw conclusions about the data by performing a statistical test or fitting the data to a model for making predictions. There are also a lot of potential analyses that could be performed on the data which are not possible with only the data provided. For example, detailed location data has not been investigated. Where are the most commonly used docks? What are the most common routes? As another example, weather has potential to have a large impact on daily ridership. How much is ridership impacted when there is rain or snow? Are subscribers or customers affected more by changes in weather?\n",
    "\n",
    "\n",
    "<a id='conclusions'></a>\n",
    "## Conclusions \n",
    "\n",
    "We have explored the data provided by  Motivate, a bike-share system provider for many major cities in the United States for the below points and computed descriptive statistics:\n",
    "\n",
    "\n",
    "a. Comparison of  the system usage between three large cities: New York City, Chicago, and Washington,DC. \n",
    "\n",
    "b. Differences within each system for the users that are registered, regular users and those users that are short-term, casual users.\n",
    "\n",
    "The outcome of data wrangling and exploratory analysis yields the  below stats -\n",
    "\n",
    "  1. Chicago has the highest proportion of trips by customers : 23.77%\n",
    "  2. NYC has the highest proportion of trips by subscribers : 88.84%\n",
    "  3. NYC has the highest number of total trips : 276081\n",
    "  4. Washington leads the average trip in minutes by 18.93 and also in terms of proportion of rides(%)greater than  30 min by 10.5.\n",
    "  5. Chicago customers take longer rides on average of duration, 30.98 minutes.(in comparison to subscribers. Note - we have considered for Chicago only)\n",
    "\n",
    "  6. Ridership pattern for the days of week between subscribers and customers. Customer ridership is highest on saturday and that of subscriber is on thursday.There is an increase in ridership count for customer group for weekend as against the group, subscriber where as weekdays see a higher ridership.\n",
    "\n",
    "  7. In the comparison between the peak usage pattern for the groups:subscriber and customer. The subscriber group bike usage peaks in the morning, at 8 and in the evening at 5.While the customer group also sees a similar peak usage however the peak curve is smoother around 8 in the morning and peaks in the evening at 5.\n",
    "\n",
    "**Question 7**: Applications of data science in the field of agriculture -\n",
    "\n",
    "**Answer**: Of the various disciplines which can reap benefits from data science,agriculture is one of the key areas that effective application of data science can bolster food production and hence a nation's economy. This would require working closley with farmers to understand the productivity challenges in farming. Few of the applications of data science to agriculture helps understand:\n",
    "   - Dependency of crop selection based on soil composition and weather conditions.\n",
    "   - Qualitative and quantitive improvement in crop yield by studing a plant under controlled conditions as against in the fields.\n",
    "   - Based on real time weather reports, instances of drought or excessive rain can be foreseen.Thereby helping farmers to be wary of planting and harvesting times to be modified.Accordingly select the crops that can be grown in a specific duration.\n",
    "   -  Tied to the previous point is the selection and rotation of crops requireing less water supply, faster growing plants. \n",
    "   - Soil quality : Enrichment of soil with crop rotation and growing mulitple crops and focusing on natural manure and less dependency on heavy fertilizers.\n",
    "   - Identification of infestation and diseases that affect the crops: Instroduction of other plants or plant friendly bugs to improve yield.\n",
    "   - Using genomics for better seed quality.\n"
   ]
  },
  {
   "cell_type": "markdown",
   "metadata": {
    "collapsed": true
   },
   "source": [
    "**Resources**:\n",
    "Stackoverflow and python tutorials have been referenced generously.\n"
   ]
  }
 ],
 "metadata": {
  "anaconda-cloud": {},
  "kernelspec": {
   "display_name": "Python [conda env:udacity_ipnd]",
   "language": "python",
   "name": "conda-env-udacity_ipnd-py"
  },
  "language_info": {
   "codemirror_mode": {
    "name": "ipython",
    "version": 3
   },
   "file_extension": ".py",
   "mimetype": "text/x-python",
   "name": "python",
   "nbconvert_exporter": "python",
   "pygments_lexer": "ipython3",
   "version": "3.6.1"
  }
 },
 "nbformat": 4,
 "nbformat_minor": 1
}
